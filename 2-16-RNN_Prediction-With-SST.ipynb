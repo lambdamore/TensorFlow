{
 "cells": [
  {
   "cell_type": "markdown",
   "metadata": {},
   "source": [
    "### Import Data"
   ]
  },
  {
   "cell_type": "code",
   "execution_count": 178,
   "metadata": {
    "collapsed": false
   },
   "outputs": [],
   "source": [
    "import numpy as np\n",
    "import random\n",
    "import tensorflow as tf\n",
    "from netCDF4 import Dataset\n",
    "directory=\"/Users/lambda/Documents/Code/CaliforniaDrought/Data/\"\n",
    "file=directory+\"SST/sst.mon.mean.nc\"\n",
    "nc=Dataset(file,'r')\n",
    "SST=nc.variables[\"sst\"][-816:,69:110,150:270]\n",
    "lat=nc.variables[\"lat\"][:]\n",
    "lon=nc.variables[\"lon\"][:]\n",
    "SST=SST[0:815,:,:]\n",
    "from numpy import loadtxt\n",
    "CAMonthTotal= loadtxt(directory+'Precipitation/CAMonthTotal.txt')\n",
    "ORMonthTotal= loadtxt(directory+'Precipitation/ORMonthTotal.txt')\n",
    "WCMonthTotal= loadtxt(directory+'Precipitation/WCMonthTotal.txt')\n",
    "CAMonthTotal=WCMonthTotal.reshape((816, 1))\n",
    "CAMonthTotal=CAMonthTotal[1:816]\n",
    "low_values_indices = SST.data > 100  # Where values are low\n",
    "SST.data[low_values_indices] = 27.062370800422372\n",
    "rlat=41\n",
    "rlon=120\n",
    "x_data=SST.data.flatten()\n",
    "x_data=np.reshape((x_data-np.mean(x_data))/np.std(x_data),(815,rlat,rlon,1))\n",
    "y_data=(CAMonthTotal-np.mean(CAMonthTotal))/np.std(CAMonthTotal)"
   ]
  },
  {
   "cell_type": "markdown",
   "metadata": {},
   "source": [
    "### Computing Graph"
   ]
  },
  {
   "cell_type": "markdown",
   "metadata": {},
   "source": [
    "#### Hyperparameters"
   ]
  },
  {
   "cell_type": "code",
   "execution_count": 179,
   "metadata": {
    "collapsed": true
   },
   "outputs": [],
   "source": [
    "ptraining=576\n",
    "ptest=815-ptraining\n",
    "epoches=300\n",
    "ctraining=[]\n",
    "ctest=[]\n",
    "lr = 0.001\n",
    "batch_size = 1\n",
    "#Convolution Layer Parameters\n",
    "wc1=5\n",
    "nc1=5\n",
    "wc2=5\n",
    "nc2=3\n",
    "wp1=2\n",
    "wp2=2\n",
    "fl=(rlat-wc1-wc2-wp1-wp2+4)*(rlon-wc1-wc2-wp1-wp2+4)*nc2\n",
    "fl2=fl/20\n",
    "#Recurrent Layer Parameters\n",
    "n_inputs = 20      # input size from convolution layer\n",
    "n_steps = 192        # time steps\n",
    "n_hidden_units = 30   # neurons in hidden layer\n",
    "rfc=15\n",
    "n_classes = 1      # MNIST classes (0-9 digits)\n",
    "\n",
    "drop=1\n",
    "epsilon = 1e-3\n"
   ]
  },
  {
   "cell_type": "code",
   "execution_count": 180,
   "metadata": {
    "collapsed": true
   },
   "outputs": [],
   "source": [
    "tf.reset_default_graph()\n",
    "tf.set_random_seed(300)\n",
    "#69,143,"
   ]
  },
  {
   "cell_type": "code",
   "execution_count": 181,
   "metadata": {
    "collapsed": true
   },
   "outputs": [],
   "source": [
    "x = tf.placeholder('float', [None, rlat,rlon,1])\n",
    "y = tf.placeholder('float',[None,n_classes])"
   ]
  },
  {
   "cell_type": "markdown",
   "metadata": {},
   "source": [
    "#### Convolution Layer"
   ]
  },
  {
   "cell_type": "code",
   "execution_count": 182,
   "metadata": {
    "collapsed": false
   },
   "outputs": [],
   "source": [
    "def convolutional_neural_network(x):\n",
    "    def conv2d(x, W):\n",
    "        return tf.nn.conv2d(x, W, strides=[1,1,1,1], padding='VALID')\n",
    "    def maxpool2d(x,W):\n",
    "        return tf.nn.max_pool(x, [1,W,W,1], strides=[1,1,1,1], padding='VALID')\n",
    "    weights = {'W_conv1':tf.Variable(tf.random_normal([wc1,wc1,1,nc1],stddev=0.003)),\n",
    "               'W_conv2':tf.Variable(tf.random_normal([wc2,wc2,nc1,nc2],stddev=0.003)),\n",
    "               'W_fc1':tf.Variable(tf.random_normal([fl,fl2],stddev=0.003)),\n",
    "               'W_fc2':tf.Variable(tf.random_normal([fl2,n_inputs],stddev=0.003))}\n",
    "\n",
    "    biases = {'b_conv1':tf.Variable(tf.random_normal([nc1],stddev=0.001)),\n",
    "               'b_conv2':tf.Variable(tf.random_normal([nc2],stddev=0.001)),\n",
    "               'b_fc1':tf.Variable(tf.random_normal([fl2],stddev=0.001)),\n",
    "               'b_fc2':tf.Variable(tf.random_normal([n_inputs],stddev=0.001))}\n",
    "    \n",
    "    \n",
    "    conv1 = conv2d(x, weights['W_conv1']) + biases['b_conv1']\n",
    "    pool1 = maxpool2d(conv1,wp1)\n",
    "\n",
    "    conv2 = conv2d(pool1, weights['W_conv2']) + biases['b_conv2']\n",
    "    pool2 = maxpool2d(conv2,wp1)\n",
    "\n",
    "    fc = tf.reshape(pool2,[-1, fl])\n",
    "    \n",
    "    \n",
    " \n",
    "    fc = tf.nn.relu(tf.matmul(fc, weights['W_fc1'])+biases['b_fc1'])\n",
    "    fc = tf.matmul(fc, weights['W_fc2'])+biases['b_fc2']\n",
    "    return fc"
   ]
  },
  {
   "cell_type": "markdown",
   "metadata": {},
   "source": [
    "#### Recurrent Layer"
   ]
  },
  {
   "cell_type": "code",
   "execution_count": 183,
   "metadata": {
    "collapsed": false
   },
   "outputs": [],
   "source": [
    "def RNN(X):  \n",
    "    weights = {\n",
    "    'fc': tf.Variable(tf.random_normal([n_hidden_units, rfc])),\n",
    "    'out': tf.Variable(tf.random_normal([n_hidden_units, n_classes]))}\n",
    "    biases = {\n",
    "    'fc': tf.Variable(tf.constant(0.1, shape=[rfc,])),\n",
    "    'out': tf.Variable(tf.constant(0.1, shape=[n_classes, ]))}\n",
    "\n",
    "    #X_in = tf.matmul(X, weights['in']) + biases['in']\n",
    "    # X_in ==> (128 batch, 28 steps, 128 hidden)\n",
    "    X_in = tf.reshape(X, [-1, n_steps, n_inputs])\n",
    "    # cell\n",
    "   \n",
    "    # cell\n",
    "    ##########################################\n",
    "\n",
    "    # basic LSTM Cell.\n",
    "    cell = tf.contrib.rnn.BasicLSTMCell(n_hidden_units, forget_bias=1.0, state_is_tuple=True)\n",
    "    # lstm cell is divided into two parts (c_state, h_state)\n",
    "    #cell = tf.nn.rnn_cell.DropoutWrapper(cell, input_keep_prob=keep_prob, output_keep_prob=keep_prob)\n",
    "    init_state = cell.zero_state(batch_size, dtype=tf.float32)\n",
    "    outputs, final_state = tf.nn.dynamic_rnn(cell, X_in, initial_state=init_state, time_major=False)\n",
    "    ###########################################\n",
    "    #outputs=tf.nn.dropout(outputs, keep_prob)\n",
    "    outputs = tf.reshape(tf.transpose(outputs, [1, 0, 2]),(n_steps,n_hidden_units))    \n",
    "     ##########################################\n",
    "    results = tf.matmul(outputs, weights['out']) + biases['out'] \n",
    "    batch_mean2, batch_var2 = tf.nn.moments(results,[0])\n",
    "    scale2 = tf.Variable(tf.ones([n_steps,1]))\n",
    "    beta2 = tf.Variable(tf.zeros([n_steps,1]))\n",
    "    results = tf.nn.batch_normalization(results,batch_mean2,batch_var2,beta2,scale2,epsilon)\n",
    "    return results"
   ]
  },
  {
   "cell_type": "markdown",
   "metadata": {},
   "source": [
    "### Train"
   ]
  },
  {
   "cell_type": "code",
   "execution_count": 184,
   "metadata": {
    "collapsed": false
   },
   "outputs": [],
   "source": [
    "cnn=convolutional_neural_network(x)\n",
    "prediction=RNN(cnn)\n",
    "cost = tf.reduce_mean(tf.square(y-prediction))\n",
    "train_op = tf.train.AdamOptimizer(lr).minimize(cost)"
   ]
  },
  {
   "cell_type": "code",
   "execution_count": 185,
   "metadata": {
    "collapsed": false
   },
   "outputs": [
    {
     "name": "stdout",
     "output_type": "stream",
     "text": [
      "0.575831\n",
      "0.510477\n",
      "0.480383\n",
      "0.470907\n",
      "0.470411\n",
      "0.470717\n",
      "0.450134\n",
      "0.977427\n",
      "0.456117\n",
      "0.447609\n",
      "0.432809\n",
      "0.446055\n",
      "0.415003\n",
      "0.406061\n",
      "0.405913\n",
      "0.409318\n",
      "0.403902\n",
      "0.390961\n",
      "0.40385\n",
      "0.390196\n",
      "0.39902\n",
      "0.394888\n",
      "0.396\n",
      "0.400134\n",
      "0.39687\n",
      "0.399259\n",
      "0.398726\n",
      "0.406141\n",
      "0.421207\n",
      "0.422553\n",
      "0.411105\n",
      "0.401973\n",
      "0.4028\n",
      "0.409344\n",
      "0.405262\n",
      "0.419437\n",
      "0.41677\n",
      "0.416736\n",
      "0.440291\n",
      "0.396017\n",
      "0.409981\n",
      "0.420129\n",
      "0.426476\n",
      "0.422622\n",
      "0.46628\n",
      "0.424306\n",
      "0.437454\n",
      "0.416075\n",
      "0.433273\n",
      "0.432508\n",
      "0.417911\n",
      "0.437254\n",
      "0.501768\n",
      "0.417042\n",
      "0.437214\n",
      "0.443437\n",
      "0.456294\n",
      "0.466673\n",
      "0.455909\n",
      "0.457217\n",
      "0.430629\n",
      "0.454513\n",
      "0.446284\n",
      "0.427158\n",
      "0.429414\n",
      "0.460499\n",
      "0.46215\n",
      "0.466936\n",
      "0.513707\n",
      "0.490393\n",
      "0.464345\n",
      "0.466088\n",
      "0.449361\n",
      "0.458398\n",
      "0.456149\n",
      "0.429505\n",
      "0.47327\n",
      "0.46109\n",
      "0.477261\n",
      "0.452573\n",
      "0.512636\n",
      "0.496923\n",
      "0.464853\n",
      "0.476753\n",
      "0.572619\n",
      "0.443628\n",
      "0.484145\n",
      "0.454241\n",
      "0.50074\n",
      "0.495617\n",
      "0.432004\n",
      "0.504805\n",
      "0.467812\n",
      "0.500233\n",
      "0.474243\n",
      "0.519784\n",
      "0.442761\n",
      "0.488238\n",
      "0.477512\n",
      "0.483446\n",
      "0.537834\n",
      "0.443665\n",
      "0.477746\n",
      "0.479821\n",
      "0.52467\n",
      "0.451207\n",
      "0.508874\n",
      "0.465019\n",
      "0.497801\n"
     ]
    },
    {
     "ename": "KeyboardInterrupt",
     "evalue": "",
     "output_type": "error",
     "traceback": [
      "\u001b[0;31m---------------------------------------------------------------------------\u001b[0m",
      "\u001b[0;31mKeyboardInterrupt\u001b[0m                         Traceback (most recent call last)",
      "\u001b[0;32m<ipython-input-185-aaacab9483c1>\u001b[0m in \u001b[0;36m<module>\u001b[0;34m()\u001b[0m\n\u001b[1;32m      9\u001b[0m             \u001b[0mepoch_y\u001b[0m\u001b[0;34m=\u001b[0m\u001b[0my_data\u001b[0m\u001b[0;34m[\u001b[0m\u001b[0mb\u001b[0m\u001b[0;34m*\u001b[0m\u001b[0mn_steps\u001b[0m\u001b[0;34m:\u001b[0m\u001b[0;34m(\u001b[0m\u001b[0mb\u001b[0m\u001b[0;34m+\u001b[0m\u001b[0;36m1\u001b[0m\u001b[0;34m)\u001b[0m\u001b[0;34m*\u001b[0m\u001b[0mn_steps\u001b[0m\u001b[0;34m,\u001b[0m\u001b[0;34m:\u001b[0m\u001b[0;34m]\u001b[0m\u001b[0;34m\u001b[0m\u001b[0m\n\u001b[1;32m     10\u001b[0m             \u001b[0msess\u001b[0m\u001b[0;34m.\u001b[0m\u001b[0mrun\u001b[0m\u001b[0;34m(\u001b[0m\u001b[0mtrain_op\u001b[0m\u001b[0;34m,\u001b[0m \u001b[0mfeed_dict\u001b[0m\u001b[0;34m=\u001b[0m\u001b[0;34m{\u001b[0m\u001b[0mx\u001b[0m\u001b[0;34m:\u001b[0m \u001b[0mepoch_x\u001b[0m\u001b[0;34m,\u001b[0m \u001b[0my\u001b[0m\u001b[0;34m:\u001b[0m \u001b[0mepoch_y\u001b[0m \u001b[0;34m}\u001b[0m\u001b[0;34m)\u001b[0m\u001b[0;34m\u001b[0m\u001b[0m\n\u001b[0;32m---> 11\u001b[0;31m             \u001b[0mtrcost\u001b[0m\u001b[0;34m=\u001b[0m\u001b[0msess\u001b[0m\u001b[0;34m.\u001b[0m\u001b[0mrun\u001b[0m\u001b[0;34m(\u001b[0m\u001b[0mcost\u001b[0m\u001b[0;34m,\u001b[0m \u001b[0mfeed_dict\u001b[0m\u001b[0;34m=\u001b[0m\u001b[0;34m{\u001b[0m\u001b[0mx\u001b[0m\u001b[0;34m:\u001b[0m \u001b[0mepoch_x\u001b[0m\u001b[0;34m,\u001b[0m \u001b[0my\u001b[0m\u001b[0;34m:\u001b[0m \u001b[0mepoch_y\u001b[0m \u001b[0;34m}\u001b[0m\u001b[0;34m)\u001b[0m\u001b[0;34m\u001b[0m\u001b[0m\n\u001b[0m\u001b[1;32m     12\u001b[0m             \u001b[0mctraining\u001b[0m\u001b[0;34m.\u001b[0m\u001b[0mappend\u001b[0m\u001b[0;34m(\u001b[0m\u001b[0mtrcost\u001b[0m\u001b[0;34m)\u001b[0m\u001b[0;34m\u001b[0m\u001b[0m\n\u001b[1;32m     13\u001b[0m         \u001b[0mtt\u001b[0m\u001b[0;34m=\u001b[0m\u001b[0;34m[\u001b[0m\u001b[0;34m]\u001b[0m\u001b[0;34m\u001b[0m\u001b[0m\n",
      "\u001b[0;32m/Library/Python/2.7/site-packages/tensorflow/python/client/session.pyc\u001b[0m in \u001b[0;36mrun\u001b[0;34m(self, fetches, feed_dict, options, run_metadata)\u001b[0m\n\u001b[1;32m    765\u001b[0m     \u001b[0;32mtry\u001b[0m\u001b[0;34m:\u001b[0m\u001b[0;34m\u001b[0m\u001b[0m\n\u001b[1;32m    766\u001b[0m       result = self._run(None, fetches, feed_dict, options_ptr,\n\u001b[0;32m--> 767\u001b[0;31m                          run_metadata_ptr)\n\u001b[0m\u001b[1;32m    768\u001b[0m       \u001b[0;32mif\u001b[0m \u001b[0mrun_metadata\u001b[0m\u001b[0;34m:\u001b[0m\u001b[0;34m\u001b[0m\u001b[0m\n\u001b[1;32m    769\u001b[0m         \u001b[0mproto_data\u001b[0m \u001b[0;34m=\u001b[0m \u001b[0mtf_session\u001b[0m\u001b[0;34m.\u001b[0m\u001b[0mTF_GetBuffer\u001b[0m\u001b[0;34m(\u001b[0m\u001b[0mrun_metadata_ptr\u001b[0m\u001b[0;34m)\u001b[0m\u001b[0;34m\u001b[0m\u001b[0m\n",
      "\u001b[0;32m/Library/Python/2.7/site-packages/tensorflow/python/client/session.pyc\u001b[0m in \u001b[0;36m_run\u001b[0;34m(self, handle, fetches, feed_dict, options, run_metadata)\u001b[0m\n\u001b[1;32m    963\u001b[0m     \u001b[0;32mif\u001b[0m \u001b[0mfinal_fetches\u001b[0m \u001b[0;32mor\u001b[0m \u001b[0mfinal_targets\u001b[0m\u001b[0;34m:\u001b[0m\u001b[0;34m\u001b[0m\u001b[0m\n\u001b[1;32m    964\u001b[0m       results = self._do_run(handle, final_targets, final_fetches,\n\u001b[0;32m--> 965\u001b[0;31m                              feed_dict_string, options, run_metadata)\n\u001b[0m\u001b[1;32m    966\u001b[0m     \u001b[0;32melse\u001b[0m\u001b[0;34m:\u001b[0m\u001b[0;34m\u001b[0m\u001b[0m\n\u001b[1;32m    967\u001b[0m       \u001b[0mresults\u001b[0m \u001b[0;34m=\u001b[0m \u001b[0;34m[\u001b[0m\u001b[0;34m]\u001b[0m\u001b[0;34m\u001b[0m\u001b[0m\n",
      "\u001b[0;32m/Library/Python/2.7/site-packages/tensorflow/python/client/session.pyc\u001b[0m in \u001b[0;36m_do_run\u001b[0;34m(self, handle, target_list, fetch_list, feed_dict, options, run_metadata)\u001b[0m\n\u001b[1;32m   1013\u001b[0m     \u001b[0;32mif\u001b[0m \u001b[0mhandle\u001b[0m \u001b[0;32mis\u001b[0m \u001b[0mNone\u001b[0m\u001b[0;34m:\u001b[0m\u001b[0;34m\u001b[0m\u001b[0m\n\u001b[1;32m   1014\u001b[0m       return self._do_call(_run_fn, self._session, feed_dict, fetch_list,\n\u001b[0;32m-> 1015\u001b[0;31m                            target_list, options, run_metadata)\n\u001b[0m\u001b[1;32m   1016\u001b[0m     \u001b[0;32melse\u001b[0m\u001b[0;34m:\u001b[0m\u001b[0;34m\u001b[0m\u001b[0m\n\u001b[1;32m   1017\u001b[0m       return self._do_call(_prun_fn, self._session, handle, feed_dict,\n",
      "\u001b[0;32m/Library/Python/2.7/site-packages/tensorflow/python/client/session.pyc\u001b[0m in \u001b[0;36m_do_call\u001b[0;34m(self, fn, *args)\u001b[0m\n\u001b[1;32m   1020\u001b[0m   \u001b[0;32mdef\u001b[0m \u001b[0m_do_call\u001b[0m\u001b[0;34m(\u001b[0m\u001b[0mself\u001b[0m\u001b[0;34m,\u001b[0m \u001b[0mfn\u001b[0m\u001b[0;34m,\u001b[0m \u001b[0;34m*\u001b[0m\u001b[0margs\u001b[0m\u001b[0;34m)\u001b[0m\u001b[0;34m:\u001b[0m\u001b[0;34m\u001b[0m\u001b[0m\n\u001b[1;32m   1021\u001b[0m     \u001b[0;32mtry\u001b[0m\u001b[0;34m:\u001b[0m\u001b[0;34m\u001b[0m\u001b[0m\n\u001b[0;32m-> 1022\u001b[0;31m       \u001b[0;32mreturn\u001b[0m \u001b[0mfn\u001b[0m\u001b[0;34m(\u001b[0m\u001b[0;34m*\u001b[0m\u001b[0margs\u001b[0m\u001b[0;34m)\u001b[0m\u001b[0;34m\u001b[0m\u001b[0m\n\u001b[0m\u001b[1;32m   1023\u001b[0m     \u001b[0;32mexcept\u001b[0m \u001b[0merrors\u001b[0m\u001b[0;34m.\u001b[0m\u001b[0mOpError\u001b[0m \u001b[0;32mas\u001b[0m \u001b[0me\u001b[0m\u001b[0;34m:\u001b[0m\u001b[0;34m\u001b[0m\u001b[0m\n\u001b[1;32m   1024\u001b[0m       \u001b[0mmessage\u001b[0m \u001b[0;34m=\u001b[0m \u001b[0mcompat\u001b[0m\u001b[0;34m.\u001b[0m\u001b[0mas_text\u001b[0m\u001b[0;34m(\u001b[0m\u001b[0me\u001b[0m\u001b[0;34m.\u001b[0m\u001b[0mmessage\u001b[0m\u001b[0;34m)\u001b[0m\u001b[0;34m\u001b[0m\u001b[0m\n",
      "\u001b[0;32m/Library/Python/2.7/site-packages/tensorflow/python/client/session.pyc\u001b[0m in \u001b[0;36m_run_fn\u001b[0;34m(session, feed_dict, fetch_list, target_list, options, run_metadata)\u001b[0m\n\u001b[1;32m   1002\u001b[0m         return tf_session.TF_Run(session, options,\n\u001b[1;32m   1003\u001b[0m                                  \u001b[0mfeed_dict\u001b[0m\u001b[0;34m,\u001b[0m \u001b[0mfetch_list\u001b[0m\u001b[0;34m,\u001b[0m \u001b[0mtarget_list\u001b[0m\u001b[0;34m,\u001b[0m\u001b[0;34m\u001b[0m\u001b[0m\n\u001b[0;32m-> 1004\u001b[0;31m                                  status, run_metadata)\n\u001b[0m\u001b[1;32m   1005\u001b[0m \u001b[0;34m\u001b[0m\u001b[0m\n\u001b[1;32m   1006\u001b[0m     \u001b[0;32mdef\u001b[0m \u001b[0m_prun_fn\u001b[0m\u001b[0;34m(\u001b[0m\u001b[0msession\u001b[0m\u001b[0;34m,\u001b[0m \u001b[0mhandle\u001b[0m\u001b[0;34m,\u001b[0m \u001b[0mfeed_dict\u001b[0m\u001b[0;34m,\u001b[0m \u001b[0mfetch_list\u001b[0m\u001b[0;34m)\u001b[0m\u001b[0;34m:\u001b[0m\u001b[0;34m\u001b[0m\u001b[0m\n",
      "\u001b[0;31mKeyboardInterrupt\u001b[0m: "
     ]
    }
   ],
   "source": [
    "gtestcost=np.inf\n",
    "all_saver = tf.train.Saver() \n",
    "with tf.Session() as sess:\n",
    "    init = tf.global_variables_initializer()\n",
    "    sess.run(init)\n",
    "    for epoch in range(epoches):\n",
    "        for b in range(ptraining/n_steps):\n",
    "            epoch_x=x_data[b*n_steps:(b+1)*n_steps,:,:]\n",
    "            epoch_y=y_data[b*n_steps:(b+1)*n_steps,:]\n",
    "            sess.run(train_op, feed_dict={x: epoch_x, y: epoch_y })\n",
    "            trcost=sess.run(cost, feed_dict={x: epoch_x, y: epoch_y })\n",
    "            ctraining.append(trcost)\n",
    "        tt=[]\n",
    "        for b in range(ptest/n_steps):\n",
    "            epoch_x=x_data[ptraining+b*n_steps:ptraining+(b+1)*n_steps,:,:]\n",
    "            epoch_y=y_data[ptraining+b*n_steps:ptraining+(b+1)*n_steps,:]\n",
    "            tt.append(sess.run(cost, feed_dict={x: epoch_x, y: epoch_y}))\n",
    "        tecost=np.mean(tt)    \n",
    "        ctest.append(tecost)\n",
    "        print tecost\n",
    "        if tecost < gtestcost:\n",
    "            gtestcost=tecost\n",
    "            all_saver.save(sess, 'RNN_Prediction_Trained')\n",
    "    sess.close()"
   ]
  },
  {
   "cell_type": "code",
   "execution_count": 186,
   "metadata": {
    "collapsed": false
   },
   "outputs": [
    {
     "data": {
      "image/png": "[encoded data removed]",
      "text/plain": [
       "<matplotlib.figure.Figure at 0x11394ee90>"
      ]
     },
     "metadata": {},
     "output_type": "display_data"
    }
   ],
   "source": [
    "import matplotlib.pyplot as plt\n",
    "plt.plot(ctraining)\n",
    "plt.title(\"Training Cost\")\n",
    "plt.show()"
   ]
  },
  {
   "cell_type": "code",
   "execution_count": 187,
   "metadata": {
    "collapsed": false
   },
   "outputs": [
    {
     "data": {
      "image/png": "[encoded data removed]",
      "text/plain": [
       "<matplotlib.figure.Figure at 0x124e7b2d0>"
      ]
     },
     "metadata": {},
     "output_type": "display_data"
    }
   ],
   "source": [
    "plt.plot(ctest)\n",
    "plt.title(\"Test Cost\")\n",
    "plt.show()"
   ]
  },
  {
   "cell_type": "code",
   "execution_count": 188,
   "metadata": {
    "collapsed": false
   },
   "outputs": [
    {
     "data": {
      "text/plain": [
       "0.085192084"
      ]
     },
     "execution_count": 188,
     "metadata": {},
     "output_type": "execute_result"
    }
   ],
   "source": [
    "np.min(ctraining)"
   ]
  },
  {
   "cell_type": "code",
   "execution_count": 1,
   "metadata": {
    "collapsed": false
   },
   "outputs": [
    {
     "ename": "NameError",
     "evalue": "name 'np' is not defined",
     "output_type": "error",
     "traceback": [
      "\u001b[0;31m---------------------------------------------------------------------------\u001b[0m",
      "\u001b[0;31mNameError\u001b[0m                                 Traceback (most recent call last)",
      "\u001b[0;32m<ipython-input-1-ec27a2402a6b>\u001b[0m in \u001b[0;36m<module>\u001b[0;34m()\u001b[0m\n\u001b[0;32m----> 1\u001b[0;31m \u001b[0mnp\u001b[0m\u001b[0;34m.\u001b[0m\u001b[0mmin\u001b[0m\u001b[0;34m(\u001b[0m\u001b[0mctest\u001b[0m\u001b[0;34m)\u001b[0m\u001b[0;34m\u001b[0m\u001b[0m\n\u001b[0m",
      "\u001b[0;31mNameError\u001b[0m: name 'np' is not defined"
     ]
    }
   ],
   "source": [
    "np.min(ctest)"
   ]
  },
  {
   "cell_type": "markdown",
   "metadata": {},
   "source": [
    "## Result"
   ]
  },
  {
   "cell_type": "code",
   "execution_count": null,
   "metadata": {
    "collapsed": false
   },
   "outputs": [],
   "source": [
    "with tf.Session() as sess:\n",
    "    # Initialize variables\n",
    "    sess.run(tf.global_variables_initializer())\n",
    "    load_path = all_saver.restore(sess, '/Users/lambda/Documents/Code/Lib/Python/TensorFlow/RNN_Prediction_Trained')\n",
    "    trainingresult=[]\n",
    "    trainingobserve=[]\n",
    "    for b in range(ptraining/n_steps):\n",
    "        epoch_x=x_data[b*n_steps:(b+1)*n_steps,:,:]\n",
    "        epoch_y=y_data[b*n_steps:(b+1)*n_steps,:]\n",
    "        trainingresult.append(sess.run(prediction, feed_dict={x: epoch_x}))\n",
    "        trainingobserve.append(epoch_y)\n",
    "    testresult=[]\n",
    "    testobserve=[]\n",
    "    for b in range(ptest/n_steps):\n",
    "        epoch_x=x_data[ptraining+b*n_steps:ptraining+(b+1)*n_steps,:,:]\n",
    "        epoch_y=y_data[ptraining+b*n_steps:ptraining+(b+1)*n_steps,:]\n",
    "        testresult.append(sess.run(prediction, feed_dict={x: epoch_x}))\n",
    "        testobserve.append(epoch_y)"
   ]
  },
  {
   "cell_type": "code",
   "execution_count": null,
   "metadata": {
    "collapsed": true
   },
   "outputs": [],
   "source": [
    "atrainingresult=np.reshape(np.asarray(trainingresult),(ptraining/n_steps*n_steps,1))\n",
    "atrainingobserve=np.reshape(np.asarray(trainingobserve),(ptraining/n_steps*n_steps,1))\n",
    "atestresult=np.reshape(np.asarray(testresult),(ptest/n_steps*n_steps,1))\n",
    "atestobserve=np.reshape(np.asarray(testobserve),(ptest/n_steps*n_steps,1))"
   ]
  },
  {
   "cell_type": "code",
   "execution_count": null,
   "metadata": {
    "collapsed": false
   },
   "outputs": [],
   "source": [
    "import matplotlib.pyplot as plt\n",
    "plt.plot(atrainingresult,atrainingobserve,'ro')\n",
    "plt.show()"
   ]
  },
  {
   "cell_type": "code",
   "execution_count": null,
   "metadata": {
    "collapsed": false
   },
   "outputs": [],
   "source": [
    "import matplotlib.pyplot as plt\n",
    "plt.plot(atestresult,atestobserve,'ro')\n",
    "plt.show()"
   ]
  },
  {
   "cell_type": "code",
   "execution_count": null,
   "metadata": {
    "collapsed": false
   },
   "outputs": [],
   "source": [
    "map(lambda m:np.corrcoef(map(lambda x:x[0],atrainingresult[m:len(atestresult):12].tolist()),\n",
    "                         map(lambda x:x[0],atrainingobserve[m:len(atestresult):12].tolist()))[0][1],\n",
    "    range(12))"
   ]
  },
  {
   "cell_type": "code",
   "execution_count": null,
   "metadata": {
    "collapsed": false
   },
   "outputs": [],
   "source": [
    "map(lambda m:np.corrcoef(map(lambda x:x[0],atestresult[m:len(atestresult):12].tolist()),\n",
    "                         map(lambda x:x[0],atestobserve[m:len(atestresult):12].tolist()))[0][1],\n",
    "    range(12))"
   ]
  }
 ],
 "metadata": {
  "kernelspec": {
   "display_name": "Python 2",
   "language": "python",
   "name": "python2"
  },
  "language_info": {
   "codemirror_mode": {
    "name": "ipython",
    "version": 2
   },
   "file_extension": ".py",
   "mimetype": "text/x-python",
   "name": "python",
   "nbconvert_exporter": "python",
   "pygments_lexer": "ipython2",
   "version": "2.7.10"
  }
 },
 "nbformat": 4,
 "nbformat_minor": 2
}
