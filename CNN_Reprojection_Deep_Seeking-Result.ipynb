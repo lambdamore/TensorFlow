{
 "cells": [
  {
   "cell_type": "markdown",
   "metadata": {},
   "source": [
    "# Import Data"
   ]
  },
  {
   "cell_type": "code",
   "execution_count": 22,
   "metadata": {
    "collapsed": false
   },
   "outputs": [],
   "source": [
    "import numpy as np\n",
    "from netCDF4 import Dataset\n",
    "directory=\"/Users/lambda/Documents/Code/CaliforniaDrought2016/Data/\"\n",
    "#file=directory+\"Pressure/hgt.mon.mean.nc\"\n",
    "#nc=Dataset(file,'r')\n",
    "#pressure=nc.variables[\"hgt\"][0:816,7,0:48,48:112]\n",
    "file=directory+\"Pressure/slp.mon.mean.nc\"\n",
    "nc=Dataset(file,'r')\n",
    "#pressure=nc.variables[\"slp\"][0:815,0:48,48:112]\n",
    "pressure=nc.variables[\"slp\"][0:816,0:48,48:112]\n",
    "lat=nc.variables[\"lat\"][:]\n",
    "lon=nc.variables[\"lon\"][:]\n",
    "from numpy import loadtxt\n",
    "CAMonthTotal= loadtxt(directory+'Precipitation/CAMonthTotal.txt')\n",
    "ORMonthTotal= loadtxt(directory+'Precipitation/ORMonthTotal.txt')\n",
    "WCMonthTotal= loadtxt(directory+'Precipitation/WCMonthTotal.txt')\n",
    "CAMonthTotal=CAMonthTotal.reshape((816, 1))\n",
    "ORMonthTotal=ORMonthTotal.reshape((816, 1))\n",
    "WCMonthTotal=WCMonthTotal.reshape((816, 1))\n",
    "CAMonthTotal=CAMonthTotal[0:816,:]\n",
    "rlat=48\n",
    "rlon=64"
   ]
  },
  {
   "cell_type": "code",
   "execution_count": 23,
   "metadata": {
    "collapsed": false
   },
   "outputs": [],
   "source": [
    "y_data=CAMonthTotal\n",
    "x=pressure[0:3,:,:]\n",
    "y=y_data[0:3,:]\n",
    "for i in range(len(CAMonthTotal)/12):\n",
    "    x=np.append(x,pressure[10+12*i:15+12*i,:,:],axis=0)\n",
    "    y=np.append(y,y_data[10+12*i:15+12*i,:],axis=0)\n",
    "l=len(x)\n",
    "x_data=x.flatten()\n",
    "y_data=y\n",
    "    \n",
    "x_data=np.reshape((x_data-np.mean(x_data))/np.std(x_data),(l,rlat,rlon,1))\n",
    "y_data=(y_data-np.mean(y_data))/np.std(y_data)"
   ]
  },
  {
   "cell_type": "markdown",
   "metadata": {},
   "source": [
    "# Set Computing Graph"
   ]
  },
  {
   "cell_type": "markdown",
   "metadata": {},
   "source": [
    "### HyperParameters"
   ]
  },
  {
   "cell_type": "code",
   "execution_count": 24,
   "metadata": {
    "collapsed": true
   },
   "outputs": [],
   "source": [
    "ptraining=240\n",
    "ctraining=[]\n",
    "ctest=[]\n",
    "#Convolution Layer Parameters\n",
    "wc1=5\n",
    "nc1=3\n",
    "wc2=5 \n",
    "nc2=1\n",
    "wp1=2\n",
    "wp2=2\n",
    "fl=(rlat-wc1-wc2-wp1-wp2+4)*(rlon-wc1-wc2-wp1-wp2+4)*nc2\n",
    "wfc=50\n",
    "wfc2=10"
   ]
  },
  {
   "cell_type": "markdown",
   "metadata": {},
   "source": [
    "### Graph"
   ]
  },
  {
   "cell_type": "code",
   "execution_count": 25,
   "metadata": {
    "collapsed": false
   },
   "outputs": [],
   "source": [
    "import tensorflow as tf\n",
    "tf.reset_default_graph()\n",
    "x = tf.placeholder('float', [None, rlat,rlon,1])\n",
    "y = tf.placeholder('float',[None,1])\n",
    "def convolutional_neural_network(x):\n",
    "    def conv2d(x, W):\n",
    "        return tf.nn.conv2d(x, W, strides=[1,1,1,1], padding='VALID')\n",
    "    def maxpool2d(x,W):\n",
    "        return tf.nn.max_pool(x, [1,W,W,1], strides=[1,1,1,1], padding='VALID')\n",
    "    weights = {'W_conv1':tf.Variable(tf.random_normal([wc1,wc1,1,nc1],stddev=0.0001,name=\"W_conv1\")),\n",
    "               'W_conv2':tf.Variable(tf.random_normal([wc2,wc2,nc1,nc2],stddev=0.0001)),\n",
    "               'W_fc':tf.Variable(tf.random_normal([fl,wfc],stddev=0.0001)),\n",
    "               'W_fc2':tf.Variable(tf.random_normal([wfc,wfc2],stddev=0.0001)),\n",
    "               'out':tf.Variable(tf.random_normal([wfc2, 1],stddev=0.0001))}\n",
    "\n",
    "    biases = { 'b_conv1':tf.Variable(tf.random_normal([nc1],stddev=0.001)),\n",
    "               'b_conv2':tf.Variable(tf.random_normal([nc2],stddev=0.001)),\n",
    "               'b_fc':tf.Variable(tf.random_normal([wfc],stddev=0.001)),\n",
    "               'b_fc2':tf.Variable(tf.random_normal([wfc2],stddev=0.001)),\n",
    "               'out':tf.Variable(tf.random_normal([1],stddev=0.001))}\n",
    "    \n",
    "    \n",
    "    conv1 = conv2d(x, weights['W_conv1']) + biases['b_conv1']\n",
    "    pool1 = maxpool2d(conv1,wp1)\n",
    "\n",
    "    conv2 = conv2d(pool1, weights['W_conv2']) + biases['b_conv2']\n",
    "    pool2 = maxpool2d(conv2,wp1)\n",
    "\n",
    "    fc = tf.reshape(pool2,[-1, fl])\n",
    "    fc = tf.nn.relu(tf.matmul(fc, weights['W_fc'])+biases['b_fc'])\n",
    "    fc2 = tf.nn.relu(tf.matmul(fc, weights['W_fc2'])+biases['b_fc2'])\n",
    "    output = tf.matmul(fc2, weights['out'])+biases['out'] \n",
    "    return output"
   ]
  },
  {
   "cell_type": "code",
   "execution_count": 26,
   "metadata": {
    "collapsed": false
   },
   "outputs": [],
   "source": [
    "prediction = convolutional_neural_network(x)\n",
    "cost = tf.reduce_mean(tf.square(prediction-y))\n",
    "optimizer = tf.train.AdamOptimizer(0.001).minimize(cost)\n",
    "all_saver = tf.train.Saver()"
   ]
  },
  {
   "cell_type": "markdown",
   "metadata": {},
   "source": [
    "# Train"
   ]
  },
  {
   "cell_type": "code",
   "execution_count": 27,
   "metadata": {
    "collapsed": false
   },
   "outputs": [],
   "source": [
    "def train_neural_network(x):\n",
    "    batch=120\n",
    "    epoches=300\n",
    "    gtestcost=np.inf\n",
    "    with tf.Session() as sess:\n",
    "        sess.run(tf.global_variables_initializer())\n",
    "        for epoch in range(epoches):\n",
    "            for b in range(ptraining/batch):\n",
    "                epoch_x=x_data[b*batch:(b+1)*batch,:,:,:]\n",
    "                epoch_y=y_data[b*batch:(b+1)*batch,:]\n",
    "                sess.run(optimizer, feed_dict={x: epoch_x, y: epoch_y})\n",
    "                trainingcost=sess.run(cost, feed_dict={x: epoch_x, y: epoch_y})\n",
    "                ctraining.append(trainingcost)\n",
    "            testcost=sess.run(cost, feed_dict={x: x_data[ptraining:,:,:,:], \n",
    "                                                   y: y_data[ptraining:,:]})\n",
    "            print testcost\n",
    "            if testcost < gtestcost and (testcost<0.25):\n",
    "                gtestcost=testcost\n",
    "                all_saver.save(sess, 'CNN_Trained')\n",
    "            ctest.append(testcost)\n",
    "        result=sess.run(prediction,feed_dict={x: x_data})\n",
    "        sess.close()\n",
    "    return gtestcost"
   ]
  },
  {
   "cell_type": "code",
   "execution_count": 28,
   "metadata": {
    "collapsed": false
   },
   "outputs": [
    {
     "name": "stdout",
     "output_type": "stream",
     "text": [
      "0.870992\n",
      "0.871432\n",
      "0.871888\n",
      "0.872359\n",
      "0.87285\n",
      "0.873367\n",
      "0.873893\n",
      "0.874318\n",
      "0.874353\n",
      "0.873385\n",
      "0.870539\n",
      "0.864595\n",
      "0.855217\n",
      "0.842034\n",
      "0.823251\n",
      "0.803154\n",
      "0.790592\n",
      "0.78608\n",
      "0.789634\n",
      "0.796508\n",
      "0.771663\n",
      "0.744729\n",
      "0.723194\n",
      "0.686867\n",
      "0.657704\n",
      "0.625823\n",
      "0.597734\n",
      "0.57081\n",
      "0.539593\n",
      "0.498667\n",
      "0.449699\n",
      "0.394332\n",
      "0.350509\n",
      "0.32185\n",
      "0.30984\n",
      "0.32246\n",
      "0.310252\n",
      "0.294252\n",
      "0.328199\n",
      "0.283993\n",
      "0.304871\n",
      "0.274006\n",
      "0.280626\n",
      "0.27217\n",
      "0.268965\n",
      "0.280095\n",
      "0.265465\n",
      "0.284881\n",
      "0.266749\n",
      "0.281391\n",
      "0.264362\n",
      "0.270946\n",
      "0.264624\n",
      "0.270914\n",
      "0.273826\n",
      "0.274619\n",
      "0.277322\n",
      "0.274939\n",
      "0.275451\n",
      "0.276088\n",
      "0.272604\n",
      "0.277025\n",
      "0.267246\n",
      "0.272624\n",
      "0.264705\n",
      "0.268652\n",
      "0.268438\n",
      "0.264099\n",
      "0.269609\n",
      "0.264618\n",
      "0.263235\n",
      "0.27076\n",
      "0.262605\n",
      "0.256851\n",
      "0.262399\n",
      "0.270614\n",
      "0.262208\n",
      "0.25481\n",
      "0.270252\n",
      "0.300252\n",
      "0.258401\n",
      "0.244392\n",
      "0.363656\n",
      "0.243821\n",
      "0.283318\n",
      "0.249816\n",
      "0.281386\n",
      "0.256225\n",
      "0.294528\n",
      "0.264428\n",
      "0.298459\n",
      "0.267111\n",
      "0.30321\n",
      "0.271097\n",
      "0.306631\n",
      "0.277648\n",
      "0.305193\n",
      "0.285578\n",
      "0.307303\n",
      "0.303354\n",
      "0.306587\n",
      "0.315351\n",
      "0.307571\n",
      "0.333596\n",
      "0.315518\n",
      "0.335691\n",
      "0.326324\n",
      "0.328612\n",
      "0.345875\n",
      "0.332295\n",
      "0.34236\n",
      "0.347175\n",
      "0.342788\n",
      "0.351095\n",
      "0.362746\n",
      "0.362339\n",
      "0.355028\n",
      "0.35978\n",
      "0.380768\n",
      "0.370174\n",
      "0.328371\n",
      "0.364622\n",
      "0.416678\n",
      "0.337747\n",
      "0.404081\n",
      "0.373022\n",
      "0.342013\n",
      "0.416498\n",
      "0.336942\n",
      "0.393686\n",
      "0.349459\n",
      "0.362189\n",
      "0.355562\n",
      "0.340657\n",
      "0.381987\n",
      "0.352628\n",
      "0.355249\n",
      "0.373873\n",
      "0.344417\n",
      "0.366774\n",
      "0.375028\n",
      "0.367278\n",
      "0.370598\n",
      "0.364135\n",
      "0.368719\n",
      "0.373242\n",
      "0.366556\n",
      "0.374274\n",
      "0.377979\n",
      "0.366045\n",
      "0.380121\n",
      "0.396767\n",
      "0.37165\n",
      "0.373984\n",
      "0.406834\n",
      "0.378271\n",
      "0.359062\n",
      "0.418699\n",
      "0.390844\n",
      "0.351333\n",
      "0.463772\n"
     ]
    },
    {
     "ename": "KeyboardInterrupt",
     "evalue": "",
     "output_type": "error",
     "traceback": [
      "\u001b[0;31m---------------------------------------------------------------------------\u001b[0m",
      "\u001b[0;31mKeyboardInterrupt\u001b[0m                         Traceback (most recent call last)",
      "\u001b[0;32m<ipython-input-28-cabe9d4eea9f>\u001b[0m in \u001b[0;36m<module>\u001b[0;34m()\u001b[0m\n\u001b[1;32m      1\u001b[0m \u001b[0mtf\u001b[0m\u001b[0;34m.\u001b[0m\u001b[0mset_random_seed\u001b[0m\u001b[0;34m(\u001b[0m\u001b[0;36m23\u001b[0m\u001b[0;34m)\u001b[0m\u001b[0;34m\u001b[0m\u001b[0m\n\u001b[0;32m----> 2\u001b[0;31m \u001b[0mtempt\u001b[0m\u001b[0;34m=\u001b[0m\u001b[0mtrain_neural_network\u001b[0m\u001b[0;34m(\u001b[0m\u001b[0mx\u001b[0m\u001b[0;34m)\u001b[0m\u001b[0;34m\u001b[0m\u001b[0m\n\u001b[0m",
      "\u001b[0;32m<ipython-input-27-a7b59051035b>\u001b[0m in \u001b[0;36mtrain_neural_network\u001b[0;34m(x)\u001b[0m\n\u001b[1;32m     10\u001b[0m                 \u001b[0mepoch_y\u001b[0m\u001b[0;34m=\u001b[0m\u001b[0my_data\u001b[0m\u001b[0;34m[\u001b[0m\u001b[0mb\u001b[0m\u001b[0;34m*\u001b[0m\u001b[0mbatch\u001b[0m\u001b[0;34m:\u001b[0m\u001b[0;34m(\u001b[0m\u001b[0mb\u001b[0m\u001b[0;34m+\u001b[0m\u001b[0;36m1\u001b[0m\u001b[0;34m)\u001b[0m\u001b[0;34m*\u001b[0m\u001b[0mbatch\u001b[0m\u001b[0;34m,\u001b[0m\u001b[0;34m:\u001b[0m\u001b[0;34m]\u001b[0m\u001b[0;34m\u001b[0m\u001b[0m\n\u001b[1;32m     11\u001b[0m                 \u001b[0msess\u001b[0m\u001b[0;34m.\u001b[0m\u001b[0mrun\u001b[0m\u001b[0;34m(\u001b[0m\u001b[0moptimizer\u001b[0m\u001b[0;34m,\u001b[0m \u001b[0mfeed_dict\u001b[0m\u001b[0;34m=\u001b[0m\u001b[0;34m{\u001b[0m\u001b[0mx\u001b[0m\u001b[0;34m:\u001b[0m \u001b[0mepoch_x\u001b[0m\u001b[0;34m,\u001b[0m \u001b[0my\u001b[0m\u001b[0;34m:\u001b[0m \u001b[0mepoch_y\u001b[0m\u001b[0;34m}\u001b[0m\u001b[0;34m)\u001b[0m\u001b[0;34m\u001b[0m\u001b[0m\n\u001b[0;32m---> 12\u001b[0;31m                 \u001b[0mtrainingcost\u001b[0m\u001b[0;34m=\u001b[0m\u001b[0msess\u001b[0m\u001b[0;34m.\u001b[0m\u001b[0mrun\u001b[0m\u001b[0;34m(\u001b[0m\u001b[0mcost\u001b[0m\u001b[0;34m,\u001b[0m \u001b[0mfeed_dict\u001b[0m\u001b[0;34m=\u001b[0m\u001b[0;34m{\u001b[0m\u001b[0mx\u001b[0m\u001b[0;34m:\u001b[0m \u001b[0mepoch_x\u001b[0m\u001b[0;34m,\u001b[0m \u001b[0my\u001b[0m\u001b[0;34m:\u001b[0m \u001b[0mepoch_y\u001b[0m\u001b[0;34m}\u001b[0m\u001b[0;34m)\u001b[0m\u001b[0;34m\u001b[0m\u001b[0m\n\u001b[0m\u001b[1;32m     13\u001b[0m                 \u001b[0mctraining\u001b[0m\u001b[0;34m.\u001b[0m\u001b[0mappend\u001b[0m\u001b[0;34m(\u001b[0m\u001b[0mtrainingcost\u001b[0m\u001b[0;34m)\u001b[0m\u001b[0;34m\u001b[0m\u001b[0m\n\u001b[1;32m     14\u001b[0m             testcost=sess.run(cost, feed_dict={x: x_data[ptraining:,:,:,:], \n",
      "\u001b[0;32m/Library/Python/2.7/site-packages/tensorflow/python/client/session.pyc\u001b[0m in \u001b[0;36mrun\u001b[0;34m(self, fetches, feed_dict, options, run_metadata)\u001b[0m\n\u001b[1;32m    765\u001b[0m     \u001b[0;32mtry\u001b[0m\u001b[0;34m:\u001b[0m\u001b[0;34m\u001b[0m\u001b[0m\n\u001b[1;32m    766\u001b[0m       result = self._run(None, fetches, feed_dict, options_ptr,\n\u001b[0;32m--> 767\u001b[0;31m                          run_metadata_ptr)\n\u001b[0m\u001b[1;32m    768\u001b[0m       \u001b[0;32mif\u001b[0m \u001b[0mrun_metadata\u001b[0m\u001b[0;34m:\u001b[0m\u001b[0;34m\u001b[0m\u001b[0m\n\u001b[1;32m    769\u001b[0m         \u001b[0mproto_data\u001b[0m \u001b[0;34m=\u001b[0m \u001b[0mtf_session\u001b[0m\u001b[0;34m.\u001b[0m\u001b[0mTF_GetBuffer\u001b[0m\u001b[0;34m(\u001b[0m\u001b[0mrun_metadata_ptr\u001b[0m\u001b[0;34m)\u001b[0m\u001b[0;34m\u001b[0m\u001b[0m\n",
      "\u001b[0;32m/Library/Python/2.7/site-packages/tensorflow/python/client/session.pyc\u001b[0m in \u001b[0;36m_run\u001b[0;34m(self, handle, fetches, feed_dict, options, run_metadata)\u001b[0m\n\u001b[1;32m    963\u001b[0m     \u001b[0;32mif\u001b[0m \u001b[0mfinal_fetches\u001b[0m \u001b[0;32mor\u001b[0m \u001b[0mfinal_targets\u001b[0m\u001b[0;34m:\u001b[0m\u001b[0;34m\u001b[0m\u001b[0m\n\u001b[1;32m    964\u001b[0m       results = self._do_run(handle, final_targets, final_fetches,\n\u001b[0;32m--> 965\u001b[0;31m                              feed_dict_string, options, run_metadata)\n\u001b[0m\u001b[1;32m    966\u001b[0m     \u001b[0;32melse\u001b[0m\u001b[0;34m:\u001b[0m\u001b[0;34m\u001b[0m\u001b[0m\n\u001b[1;32m    967\u001b[0m       \u001b[0mresults\u001b[0m \u001b[0;34m=\u001b[0m \u001b[0;34m[\u001b[0m\u001b[0;34m]\u001b[0m\u001b[0;34m\u001b[0m\u001b[0m\n",
      "\u001b[0;32m/Library/Python/2.7/site-packages/tensorflow/python/client/session.pyc\u001b[0m in \u001b[0;36m_do_run\u001b[0;34m(self, handle, target_list, fetch_list, feed_dict, options, run_metadata)\u001b[0m\n\u001b[1;32m   1013\u001b[0m     \u001b[0;32mif\u001b[0m \u001b[0mhandle\u001b[0m \u001b[0;32mis\u001b[0m \u001b[0mNone\u001b[0m\u001b[0;34m:\u001b[0m\u001b[0;34m\u001b[0m\u001b[0m\n\u001b[1;32m   1014\u001b[0m       return self._do_call(_run_fn, self._session, feed_dict, fetch_list,\n\u001b[0;32m-> 1015\u001b[0;31m                            target_list, options, run_metadata)\n\u001b[0m\u001b[1;32m   1016\u001b[0m     \u001b[0;32melse\u001b[0m\u001b[0;34m:\u001b[0m\u001b[0;34m\u001b[0m\u001b[0m\n\u001b[1;32m   1017\u001b[0m       return self._do_call(_prun_fn, self._session, handle, feed_dict,\n",
      "\u001b[0;32m/Library/Python/2.7/site-packages/tensorflow/python/client/session.pyc\u001b[0m in \u001b[0;36m_do_call\u001b[0;34m(self, fn, *args)\u001b[0m\n\u001b[1;32m   1020\u001b[0m   \u001b[0;32mdef\u001b[0m \u001b[0m_do_call\u001b[0m\u001b[0;34m(\u001b[0m\u001b[0mself\u001b[0m\u001b[0;34m,\u001b[0m \u001b[0mfn\u001b[0m\u001b[0;34m,\u001b[0m \u001b[0;34m*\u001b[0m\u001b[0margs\u001b[0m\u001b[0;34m)\u001b[0m\u001b[0;34m:\u001b[0m\u001b[0;34m\u001b[0m\u001b[0m\n\u001b[1;32m   1021\u001b[0m     \u001b[0;32mtry\u001b[0m\u001b[0;34m:\u001b[0m\u001b[0;34m\u001b[0m\u001b[0m\n\u001b[0;32m-> 1022\u001b[0;31m       \u001b[0;32mreturn\u001b[0m \u001b[0mfn\u001b[0m\u001b[0;34m(\u001b[0m\u001b[0;34m*\u001b[0m\u001b[0margs\u001b[0m\u001b[0;34m)\u001b[0m\u001b[0;34m\u001b[0m\u001b[0m\n\u001b[0m\u001b[1;32m   1023\u001b[0m     \u001b[0;32mexcept\u001b[0m \u001b[0merrors\u001b[0m\u001b[0;34m.\u001b[0m\u001b[0mOpError\u001b[0m \u001b[0;32mas\u001b[0m \u001b[0me\u001b[0m\u001b[0;34m:\u001b[0m\u001b[0;34m\u001b[0m\u001b[0m\n\u001b[1;32m   1024\u001b[0m       \u001b[0mmessage\u001b[0m \u001b[0;34m=\u001b[0m \u001b[0mcompat\u001b[0m\u001b[0;34m.\u001b[0m\u001b[0mas_text\u001b[0m\u001b[0;34m(\u001b[0m\u001b[0me\u001b[0m\u001b[0;34m.\u001b[0m\u001b[0mmessage\u001b[0m\u001b[0;34m)\u001b[0m\u001b[0;34m\u001b[0m\u001b[0m\n",
      "\u001b[0;32m/Library/Python/2.7/site-packages/tensorflow/python/client/session.pyc\u001b[0m in \u001b[0;36m_run_fn\u001b[0;34m(session, feed_dict, fetch_list, target_list, options, run_metadata)\u001b[0m\n\u001b[1;32m   1002\u001b[0m         return tf_session.TF_Run(session, options,\n\u001b[1;32m   1003\u001b[0m                                  \u001b[0mfeed_dict\u001b[0m\u001b[0;34m,\u001b[0m \u001b[0mfetch_list\u001b[0m\u001b[0;34m,\u001b[0m \u001b[0mtarget_list\u001b[0m\u001b[0;34m,\u001b[0m\u001b[0;34m\u001b[0m\u001b[0m\n\u001b[0;32m-> 1004\u001b[0;31m                                  status, run_metadata)\n\u001b[0m\u001b[1;32m   1005\u001b[0m \u001b[0;34m\u001b[0m\u001b[0m\n\u001b[1;32m   1006\u001b[0m     \u001b[0;32mdef\u001b[0m \u001b[0m_prun_fn\u001b[0m\u001b[0;34m(\u001b[0m\u001b[0msession\u001b[0m\u001b[0;34m,\u001b[0m \u001b[0mhandle\u001b[0m\u001b[0;34m,\u001b[0m \u001b[0mfeed_dict\u001b[0m\u001b[0;34m,\u001b[0m \u001b[0mfetch_list\u001b[0m\u001b[0;34m)\u001b[0m\u001b[0;34m:\u001b[0m\u001b[0;34m\u001b[0m\u001b[0m\n",
      "\u001b[0;31mKeyboardInterrupt\u001b[0m: "
     ]
    }
   ],
   "source": [
    "tf.set_random_seed(23)\n",
    "tempt=train_neural_network(x)"
   ]
  },
  {
   "cell_type": "code",
   "execution_count": null,
   "metadata": {
    "collapsed": true
   },
   "outputs": [],
   "source": []
  }
 ],
 "metadata": {
  "kernelspec": {
   "display_name": "Python 2",
   "language": "python",
   "name": "python2"
  },
  "language_info": {
   "codemirror_mode": {
    "name": "ipython",
    "version": 2
   },
   "file_extension": ".py",
   "mimetype": "text/x-python",
   "name": "python",
   "nbconvert_exporter": "python",
   "pygments_lexer": "ipython2",
   "version": "2.7.10"
  }
 },
 "nbformat": 4,
 "nbformat_minor": 2
}
