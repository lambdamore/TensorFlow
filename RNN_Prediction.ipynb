{
 "cells": [
  {
   "cell_type": "markdown",
   "metadata": {
    "collapsed": true
   },
   "source": [
    "# RNN"
   ]
  },
  {
   "cell_type": "markdown",
   "metadata": {},
   "source": [
    "### Import Data"
   ]
  },
  {
   "cell_type": "code",
   "execution_count": 1,
   "metadata": {
    "collapsed": false
   },
   "outputs": [],
   "source": [
    "import numpy as np\n",
    "import random\n",
    "import tensorflow as tf\n",
    "from netCDF4 import Dataset\n",
    "directory=\"/Users/lambda/Documents/Code/CaliforniaDrought/Data/\"\n",
    "file=directory+\"SST/sst.mon.mean.nc\"\n",
    "nc=Dataset(file,'r')\n",
    "SST=nc.variables[\"sst\"][-816:,69:110,150:270]\n",
    "lat=nc.variables[\"lat\"][:]\n",
    "lon=nc.variables[\"lon\"][:]\n",
    "SST=SST[0:815,:,:]\n",
    "from numpy import loadtxt\n",
    "CAMonthTotal= loadtxt(directory+'Precipitation/CAMonthTotal.txt')\n",
    "ORMonthTotal= loadtxt(directory+'Precipitation/ORMonthTotal.txt')\n",
    "WCMonthTotal= loadtxt(directory+'Precipitation/WCMonthTotal.txt')\n",
    "CAMonthTotal=CAMonthTotal.reshape((816, 1))\n",
    "CAMonthTotal=CAMonthTotal[1:816,:]\n",
    "rlat=41\n",
    "rlon=120\n",
    "x_data=SST.flatten()\n",
    "x_data=np.reshape((x_data-np.mean(x_data))/np.std(x_data),(815,rlat,rlon,1))\n",
    "y_data=(CAMonthTotal-np.mean(CAMonthTotal))/np.std(CAMonthTotal)"
   ]
  },
  {
   "cell_type": "markdown",
   "metadata": {},
   "source": [
    "### Computing Graph"
   ]
  },
  {
   "cell_type": "markdown",
   "metadata": {},
   "source": [
    "#### Hyperparameters"
   ]
  },
  {
   "cell_type": "code",
   "execution_count": 2,
   "metadata": {
    "collapsed": true
   },
   "outputs": [],
   "source": [
    "ptraining=576\n",
    "ptest=815-ptraining\n",
    "epoches=500\n",
    "ctraining=[]\n",
    "ctest=[]\n",
    "lr = 0.01\n",
    "batch_size = 1\n",
    "#Convolution Layer Parameters\n",
    "wc1=5\n",
    "nc1=5\n",
    "wc2=3\n",
    "nc2=4\n",
    "wp1=2\n",
    "wp2=2\n",
    "fl=(rlat-wc1-wc2-wp1-wp2+4)*(rlon-wc1-wc2-wp1-wp2+4)*nc2\n",
    "fl2=fl/20\n",
    "#Recurrent Layer Parameters\n",
    "n_inputs = 40       # input size from convolution layer\n",
    "n_steps = 192        # time steps\n",
    "n_hidden_units = 30   # neurons in hidden layer\n",
    "rfc=15\n",
    "n_classes = 1      # MNIST classes (0-9 digits)\n",
    "\n",
    "drop=1\n",
    "epsilon = 1e-3\n"
   ]
  },
  {
   "cell_type": "code",
   "execution_count": 3,
   "metadata": {
    "collapsed": true
   },
   "outputs": [],
   "source": [
    "tf.reset_default_graph()\n",
    "tf.set_random_seed(300)\n",
    "#69,143,"
   ]
  },
  {
   "cell_type": "code",
   "execution_count": 4,
   "metadata": {
    "collapsed": true
   },
   "outputs": [],
   "source": [
    "x = tf.placeholder('float', [None, rlat,rlon,1])\n",
    "y = tf.placeholder('float',[None,n_classes])"
   ]
  },
  {
   "cell_type": "markdown",
   "metadata": {},
   "source": [
    "#### Convolution Layer"
   ]
  },
  {
   "cell_type": "code",
   "execution_count": 5,
   "metadata": {
    "collapsed": false
   },
   "outputs": [],
   "source": [
    "def convolutional_neural_network(x):\n",
    "    def conv2d(x, W):\n",
    "        return tf.nn.conv2d(x, W, strides=[1,1,1,1], padding='VALID')\n",
    "    def maxpool2d(x,W):\n",
    "        return tf.nn.max_pool(x, [1,W,W,1], strides=[1,1,1,1], padding='VALID')\n",
    "    weights = {'W_conv1':tf.Variable(tf.random_normal([wc1,wc1,1,nc1],stddev=0.003)),\n",
    "               'W_conv2':tf.Variable(tf.random_normal([wc2,wc2,nc1,nc2],stddev=0.003)),\n",
    "               'W_fc1':tf.Variable(tf.random_normal([fl,fl2],stddev=0.003)),\n",
    "               'W_fc2':tf.Variable(tf.random_normal([fl2,n_inputs],stddev=0.003))}\n",
    "\n",
    "    biases = {'b_conv1':tf.Variable(tf.random_normal([nc1],stddev=0.001)),\n",
    "               'b_conv2':tf.Variable(tf.random_normal([nc2],stddev=0.001)),\n",
    "               'b_fc1':tf.Variable(tf.random_normal([fl2],stddev=0.001)),\n",
    "               'b_fc2':tf.Variable(tf.random_normal([n_inputs],stddev=0.001))}\n",
    "    \n",
    "    \n",
    "    conv1 = conv2d(x, weights['W_conv1']) + biases['b_conv1']\n",
    "    pool1 = maxpool2d(conv1,wp1)\n",
    "\n",
    "    conv2 = conv2d(pool1, weights['W_conv2']) + biases['b_conv2']\n",
    "    pool2 = maxpool2d(conv2,wp1)\n",
    "\n",
    "    fc = tf.reshape(pool2,[-1, fl])\n",
    "    \n",
    "    \n",
    " \n",
    "    fc = tf.nn.relu(tf.matmul(fc, weights['W_fc1'])+biases['b_fc1'])\n",
    "    fc = tf.matmul(fc, weights['W_fc2'])+biases['b_fc2']\n",
    "    return fc"
   ]
  },
  {
   "cell_type": "markdown",
   "metadata": {},
   "source": [
    "#### Recurrent Layer"
   ]
  },
  {
   "cell_type": "code",
   "execution_count": 6,
   "metadata": {
    "collapsed": false
   },
   "outputs": [],
   "source": [
    "def RNN(X):  \n",
    "    weights = {\n",
    "    'fc': tf.Variable(tf.random_normal([n_hidden_units, rfc])),\n",
    "    'out': tf.Variable(tf.random_normal([n_hidden_units, n_classes]))}\n",
    "    biases = {\n",
    "    'fc': tf.Variable(tf.constant(0.1, shape=[rfc,])),\n",
    "    'out': tf.Variable(tf.constant(0.1, shape=[n_classes, ]))}\n",
    "\n",
    "    #X_in = tf.matmul(X, weights['in']) + biases['in']\n",
    "    # X_in ==> (128 batch, 28 steps, 128 hidden)\n",
    "    X_in = tf.reshape(X, [-1, n_steps, n_inputs])\n",
    "    # cell\n",
    "   \n",
    "    # cell\n",
    "    ##########################################\n",
    "\n",
    "    # basic LSTM Cell.\n",
    "    cell = tf.contrib.rnn.BasicLSTMCell(n_hidden_units, forget_bias=1.0, state_is_tuple=True)\n",
    "    # lstm cell is divided into two parts (c_state, h_state)\n",
    "    #cell = tf.nn.rnn_cell.DropoutWrapper(cell, input_keep_prob=keep_prob, output_keep_prob=keep_prob)\n",
    "    init_state = cell.zero_state(batch_size, dtype=tf.float32)\n",
    "    outputs, final_state = tf.nn.dynamic_rnn(cell, X_in, initial_state=init_state, time_major=False)\n",
    "    ###########################################\n",
    "    #outputs=tf.nn.dropout(outputs, keep_prob)\n",
    "    outputs = tf.reshape(tf.transpose(outputs, [1, 0, 2]),(n_steps,n_hidden_units))    \n",
    "     ##########################################\n",
    "    results = tf.matmul(outputs, weights['out']) + biases['out'] \n",
    "    batch_mean2, batch_var2 = tf.nn.moments(results,[0])\n",
    "    scale2 = tf.Variable(tf.ones([n_steps,1]))\n",
    "    beta2 = tf.Variable(tf.zeros([n_steps,1]))\n",
    "    results = tf.nn.batch_normalization(results,batch_mean2,batch_var2,beta2,scale2,epsilon)\n",
    "    return results"
   ]
  },
  {
   "cell_type": "markdown",
   "metadata": {},
   "source": [
    "### Train"
   ]
  },
  {
   "cell_type": "code",
   "execution_count": 7,
   "metadata": {
    "collapsed": false
   },
   "outputs": [],
   "source": [
    "cnn=convolutional_neural_network(x)\n",
    "prediction=RNN(cnn)\n",
    "cost = tf.reduce_mean(tf.square(prediction-y))\n",
    "train_op = tf.train.AdamOptimizer(lr).minimize(cost)"
   ]
  },
  {
   "cell_type": "code",
   "execution_count": 8,
   "metadata": {
    "collapsed": false
   },
   "outputs": [
    {
     "name": "stdout",
     "output_type": "stream",
     "text": [
      "1.39062\n",
      "1.30913\n",
      "1.23179\n",
      "1.15861\n",
      "1.0896\n",
      "1.02477\n",
      "0.964082\n",
      "0.907495\n",
      "0.854929\n",
      "0.806307\n",
      "0.761566\n",
      "0.720701\n",
      "0.683804\n",
      "0.651116\n",
      "0.623068\n",
      "0.600243\n",
      "0.583216\n",
      "0.572191\n",
      "0.566575\n",
      "0.564815\n",
      "0.56479\n",
      "0.564579\n",
      "0.563054\n",
      "0.559977\n",
      "0.555728\n",
      "0.550944\n",
      "0.546229\n",
      "0.542007\n",
      "0.538491\n",
      "0.535727\n",
      "0.533661\n",
      "0.532197\n",
      "0.531237\n",
      "0.530687\n",
      "0.53047\n",
      "0.530513\n",
      "0.530755\n",
      "0.531135\n",
      "0.531601\n",
      "0.532115\n",
      "0.532646\n",
      "0.533181\n",
      "0.533715\n",
      "0.534255\n",
      "0.534811\n",
      "0.535396\n",
      "0.536023\n",
      "0.536698\n",
      "0.537431\n",
      "0.538224\n",
      "0.539074\n",
      "0.53998\n",
      "0.540936\n",
      "0.541937\n",
      "0.542978\n",
      "0.54405\n",
      "0.54515\n",
      "0.546272\n",
      "0.547412\n",
      "0.54857\n",
      "0.549741\n",
      "0.550923\n",
      "0.552118\n",
      "0.55332\n",
      "0.554535\n",
      "0.55576\n",
      "0.556991\n",
      "0.558231\n",
      "0.559478\n",
      "0.560731\n",
      "0.561989\n",
      "0.56325\n",
      "0.564513\n",
      "0.565777\n",
      "0.567041\n",
      "0.568305\n",
      "0.569566\n",
      "0.570823\n",
      "0.572078\n",
      "0.573328\n",
      "0.574573\n",
      "0.575814\n",
      "0.577048\n",
      "0.578275\n",
      "0.579497\n",
      "0.580711\n",
      "0.581917\n",
      "0.583116\n",
      "0.584306\n",
      "0.585488\n",
      "0.586661\n",
      "0.587824\n",
      "0.588978\n",
      "0.590123\n",
      "0.591258\n",
      "0.592381\n",
      "0.593496\n",
      "0.594601\n",
      "0.595694\n",
      "0.596777\n",
      "0.59785\n",
      "0.598912\n",
      "0.599961\n",
      "0.601001\n",
      "0.60203\n",
      "0.603048\n",
      "0.604056\n",
      "0.605051\n",
      "0.606037\n",
      "0.607011\n",
      "0.607975\n",
      "0.608926\n",
      "0.609868\n",
      "0.610798\n",
      "0.611719\n",
      "0.612627\n",
      "0.613526\n",
      "0.614412\n",
      "0.61529\n",
      "0.616157\n",
      "0.617012\n",
      "0.617858\n",
      "0.618693\n",
      "0.619519\n",
      "0.620333\n",
      "0.621138\n",
      "0.621933\n",
      "0.622718\n",
      "0.623492\n",
      "0.624258\n",
      "0.625014\n",
      "0.62576\n",
      "0.626497\n",
      "0.627224\n",
      "0.627942\n",
      "0.628652\n",
      "0.629352\n",
      "0.630042\n",
      "0.630724\n",
      "0.631398\n",
      "0.632063\n",
      "0.632719\n",
      "0.633368\n",
      "0.634007\n",
      "0.634637\n",
      "0.635259\n",
      "0.635874\n",
      "0.636481\n",
      "0.63708\n",
      "0.637671\n",
      "0.638254\n",
      "0.638831\n",
      "0.639398\n",
      "0.639959\n",
      "0.640512\n",
      "0.64106\n",
      "0.641599\n",
      "0.64213\n",
      "0.642656\n",
      "0.643173\n",
      "0.643686\n",
      "0.64419\n",
      "0.644688\n",
      "0.64518\n",
      "0.645665\n",
      "0.646145\n",
      "0.646617\n",
      "0.647083\n",
      "0.647544\n",
      "0.647998\n",
      "0.648446\n",
      "0.648889\n",
      "0.649326\n",
      "0.649756\n",
      "0.650181\n",
      "0.6506\n",
      "0.651016\n",
      "0.651424\n",
      "0.651828\n",
      "0.652226\n",
      "0.652619\n",
      "0.653006\n",
      "0.653389\n",
      "0.653767\n",
      "0.654139\n",
      "0.654507\n",
      "0.654869\n",
      "0.655228\n",
      "0.655582\n",
      "0.655931\n",
      "0.656276\n",
      "0.656614\n",
      "0.656951\n",
      "0.657282\n",
      "0.657609\n",
      "0.657931\n",
      "0.65825\n",
      "0.658563\n",
      "0.658873\n",
      "0.659179\n",
      "0.659481\n",
      "0.65978\n",
      "0.660074\n",
      "0.660364\n",
      "0.66065\n",
      "0.660933\n",
      "0.661211\n",
      "0.661487\n",
      "0.66176\n",
      "0.662028\n",
      "0.662292\n",
      "0.662554\n",
      "0.662813\n",
      "0.663066\n",
      "0.663318\n",
      "0.663567\n",
      "0.663811\n",
      "0.664053\n",
      "0.664291\n",
      "0.664526\n",
      "0.664759\n",
      "0.664988\n",
      "0.665215\n",
      "0.665438\n",
      "0.665659\n",
      "0.665876\n",
      "0.666091\n",
      "0.666303\n",
      "0.666513\n",
      "0.666719\n",
      "0.666924\n",
      "0.667125\n",
      "0.667324\n",
      "0.66752\n",
      "0.667712\n",
      "0.667904\n"
     ]
    },
    {
     "ename": "KeyboardInterrupt",
     "evalue": "",
     "output_type": "error",
     "traceback": [
      "\u001b[0;31m---------------------------------------------------------------------------\u001b[0m",
      "\u001b[0;31mKeyboardInterrupt\u001b[0m                         Traceback (most recent call last)",
      "\u001b[0;32m<ipython-input-8-aaacab9483c1>\u001b[0m in \u001b[0;36m<module>\u001b[0;34m()\u001b[0m\n\u001b[1;32m      8\u001b[0m             \u001b[0mepoch_x\u001b[0m\u001b[0;34m=\u001b[0m\u001b[0mx_data\u001b[0m\u001b[0;34m[\u001b[0m\u001b[0mb\u001b[0m\u001b[0;34m*\u001b[0m\u001b[0mn_steps\u001b[0m\u001b[0;34m:\u001b[0m\u001b[0;34m(\u001b[0m\u001b[0mb\u001b[0m\u001b[0;34m+\u001b[0m\u001b[0;36m1\u001b[0m\u001b[0;34m)\u001b[0m\u001b[0;34m*\u001b[0m\u001b[0mn_steps\u001b[0m\u001b[0;34m,\u001b[0m\u001b[0;34m:\u001b[0m\u001b[0;34m,\u001b[0m\u001b[0;34m:\u001b[0m\u001b[0;34m]\u001b[0m\u001b[0;34m\u001b[0m\u001b[0m\n\u001b[1;32m      9\u001b[0m             \u001b[0mepoch_y\u001b[0m\u001b[0;34m=\u001b[0m\u001b[0my_data\u001b[0m\u001b[0;34m[\u001b[0m\u001b[0mb\u001b[0m\u001b[0;34m*\u001b[0m\u001b[0mn_steps\u001b[0m\u001b[0;34m:\u001b[0m\u001b[0;34m(\u001b[0m\u001b[0mb\u001b[0m\u001b[0;34m+\u001b[0m\u001b[0;36m1\u001b[0m\u001b[0;34m)\u001b[0m\u001b[0;34m*\u001b[0m\u001b[0mn_steps\u001b[0m\u001b[0;34m,\u001b[0m\u001b[0;34m:\u001b[0m\u001b[0;34m]\u001b[0m\u001b[0;34m\u001b[0m\u001b[0m\n\u001b[0;32m---> 10\u001b[0;31m             \u001b[0msess\u001b[0m\u001b[0;34m.\u001b[0m\u001b[0mrun\u001b[0m\u001b[0;34m(\u001b[0m\u001b[0mtrain_op\u001b[0m\u001b[0;34m,\u001b[0m \u001b[0mfeed_dict\u001b[0m\u001b[0;34m=\u001b[0m\u001b[0;34m{\u001b[0m\u001b[0mx\u001b[0m\u001b[0;34m:\u001b[0m \u001b[0mepoch_x\u001b[0m\u001b[0;34m,\u001b[0m \u001b[0my\u001b[0m\u001b[0;34m:\u001b[0m \u001b[0mepoch_y\u001b[0m \u001b[0;34m}\u001b[0m\u001b[0;34m)\u001b[0m\u001b[0;34m\u001b[0m\u001b[0m\n\u001b[0m\u001b[1;32m     11\u001b[0m             \u001b[0mtrcost\u001b[0m\u001b[0;34m=\u001b[0m\u001b[0msess\u001b[0m\u001b[0;34m.\u001b[0m\u001b[0mrun\u001b[0m\u001b[0;34m(\u001b[0m\u001b[0mcost\u001b[0m\u001b[0;34m,\u001b[0m \u001b[0mfeed_dict\u001b[0m\u001b[0;34m=\u001b[0m\u001b[0;34m{\u001b[0m\u001b[0mx\u001b[0m\u001b[0;34m:\u001b[0m \u001b[0mepoch_x\u001b[0m\u001b[0;34m,\u001b[0m \u001b[0my\u001b[0m\u001b[0;34m:\u001b[0m \u001b[0mepoch_y\u001b[0m \u001b[0;34m}\u001b[0m\u001b[0;34m)\u001b[0m\u001b[0;34m\u001b[0m\u001b[0m\n\u001b[1;32m     12\u001b[0m             \u001b[0mctraining\u001b[0m\u001b[0;34m.\u001b[0m\u001b[0mappend\u001b[0m\u001b[0;34m(\u001b[0m\u001b[0mtrcost\u001b[0m\u001b[0;34m)\u001b[0m\u001b[0;34m\u001b[0m\u001b[0m\n",
      "\u001b[0;32m/Library/Python/2.7/site-packages/tensorflow/python/client/session.pyc\u001b[0m in \u001b[0;36mrun\u001b[0;34m(self, fetches, feed_dict, options, run_metadata)\u001b[0m\n\u001b[1;32m    765\u001b[0m     \u001b[0;32mtry\u001b[0m\u001b[0;34m:\u001b[0m\u001b[0;34m\u001b[0m\u001b[0m\n\u001b[1;32m    766\u001b[0m       result = self._run(None, fetches, feed_dict, options_ptr,\n\u001b[0;32m--> 767\u001b[0;31m                          run_metadata_ptr)\n\u001b[0m\u001b[1;32m    768\u001b[0m       \u001b[0;32mif\u001b[0m \u001b[0mrun_metadata\u001b[0m\u001b[0;34m:\u001b[0m\u001b[0;34m\u001b[0m\u001b[0m\n\u001b[1;32m    769\u001b[0m         \u001b[0mproto_data\u001b[0m \u001b[0;34m=\u001b[0m \u001b[0mtf_session\u001b[0m\u001b[0;34m.\u001b[0m\u001b[0mTF_GetBuffer\u001b[0m\u001b[0;34m(\u001b[0m\u001b[0mrun_metadata_ptr\u001b[0m\u001b[0;34m)\u001b[0m\u001b[0;34m\u001b[0m\u001b[0m\n",
      "\u001b[0;32m/Library/Python/2.7/site-packages/tensorflow/python/client/session.pyc\u001b[0m in \u001b[0;36m_run\u001b[0;34m(self, handle, fetches, feed_dict, options, run_metadata)\u001b[0m\n\u001b[1;32m    963\u001b[0m     \u001b[0;32mif\u001b[0m \u001b[0mfinal_fetches\u001b[0m \u001b[0;32mor\u001b[0m \u001b[0mfinal_targets\u001b[0m\u001b[0;34m:\u001b[0m\u001b[0;34m\u001b[0m\u001b[0m\n\u001b[1;32m    964\u001b[0m       results = self._do_run(handle, final_targets, final_fetches,\n\u001b[0;32m--> 965\u001b[0;31m                              feed_dict_string, options, run_metadata)\n\u001b[0m\u001b[1;32m    966\u001b[0m     \u001b[0;32melse\u001b[0m\u001b[0;34m:\u001b[0m\u001b[0;34m\u001b[0m\u001b[0m\n\u001b[1;32m    967\u001b[0m       \u001b[0mresults\u001b[0m \u001b[0;34m=\u001b[0m \u001b[0;34m[\u001b[0m\u001b[0;34m]\u001b[0m\u001b[0;34m\u001b[0m\u001b[0m\n",
      "\u001b[0;32m/Library/Python/2.7/site-packages/tensorflow/python/client/session.pyc\u001b[0m in \u001b[0;36m_do_run\u001b[0;34m(self, handle, target_list, fetch_list, feed_dict, options, run_metadata)\u001b[0m\n\u001b[1;32m   1013\u001b[0m     \u001b[0;32mif\u001b[0m \u001b[0mhandle\u001b[0m \u001b[0;32mis\u001b[0m \u001b[0mNone\u001b[0m\u001b[0;34m:\u001b[0m\u001b[0;34m\u001b[0m\u001b[0m\n\u001b[1;32m   1014\u001b[0m       return self._do_call(_run_fn, self._session, feed_dict, fetch_list,\n\u001b[0;32m-> 1015\u001b[0;31m                            target_list, options, run_metadata)\n\u001b[0m\u001b[1;32m   1016\u001b[0m     \u001b[0;32melse\u001b[0m\u001b[0;34m:\u001b[0m\u001b[0;34m\u001b[0m\u001b[0m\n\u001b[1;32m   1017\u001b[0m       return self._do_call(_prun_fn, self._session, handle, feed_dict,\n",
      "\u001b[0;32m/Library/Python/2.7/site-packages/tensorflow/python/client/session.pyc\u001b[0m in \u001b[0;36m_do_call\u001b[0;34m(self, fn, *args)\u001b[0m\n\u001b[1;32m   1020\u001b[0m   \u001b[0;32mdef\u001b[0m \u001b[0m_do_call\u001b[0m\u001b[0;34m(\u001b[0m\u001b[0mself\u001b[0m\u001b[0;34m,\u001b[0m \u001b[0mfn\u001b[0m\u001b[0;34m,\u001b[0m \u001b[0;34m*\u001b[0m\u001b[0margs\u001b[0m\u001b[0;34m)\u001b[0m\u001b[0;34m:\u001b[0m\u001b[0;34m\u001b[0m\u001b[0m\n\u001b[1;32m   1021\u001b[0m     \u001b[0;32mtry\u001b[0m\u001b[0;34m:\u001b[0m\u001b[0;34m\u001b[0m\u001b[0m\n\u001b[0;32m-> 1022\u001b[0;31m       \u001b[0;32mreturn\u001b[0m \u001b[0mfn\u001b[0m\u001b[0;34m(\u001b[0m\u001b[0;34m*\u001b[0m\u001b[0margs\u001b[0m\u001b[0;34m)\u001b[0m\u001b[0;34m\u001b[0m\u001b[0m\n\u001b[0m\u001b[1;32m   1023\u001b[0m     \u001b[0;32mexcept\u001b[0m \u001b[0merrors\u001b[0m\u001b[0;34m.\u001b[0m\u001b[0mOpError\u001b[0m \u001b[0;32mas\u001b[0m \u001b[0me\u001b[0m\u001b[0;34m:\u001b[0m\u001b[0;34m\u001b[0m\u001b[0m\n\u001b[1;32m   1024\u001b[0m       \u001b[0mmessage\u001b[0m \u001b[0;34m=\u001b[0m \u001b[0mcompat\u001b[0m\u001b[0;34m.\u001b[0m\u001b[0mas_text\u001b[0m\u001b[0;34m(\u001b[0m\u001b[0me\u001b[0m\u001b[0;34m.\u001b[0m\u001b[0mmessage\u001b[0m\u001b[0;34m)\u001b[0m\u001b[0;34m\u001b[0m\u001b[0m\n",
      "\u001b[0;32m/Library/Python/2.7/site-packages/tensorflow/python/client/session.pyc\u001b[0m in \u001b[0;36m_run_fn\u001b[0;34m(session, feed_dict, fetch_list, target_list, options, run_metadata)\u001b[0m\n\u001b[1;32m   1002\u001b[0m         return tf_session.TF_Run(session, options,\n\u001b[1;32m   1003\u001b[0m                                  \u001b[0mfeed_dict\u001b[0m\u001b[0;34m,\u001b[0m \u001b[0mfetch_list\u001b[0m\u001b[0;34m,\u001b[0m \u001b[0mtarget_list\u001b[0m\u001b[0;34m,\u001b[0m\u001b[0;34m\u001b[0m\u001b[0m\n\u001b[0;32m-> 1004\u001b[0;31m                                  status, run_metadata)\n\u001b[0m\u001b[1;32m   1005\u001b[0m \u001b[0;34m\u001b[0m\u001b[0m\n\u001b[1;32m   1006\u001b[0m     \u001b[0;32mdef\u001b[0m \u001b[0m_prun_fn\u001b[0m\u001b[0;34m(\u001b[0m\u001b[0msession\u001b[0m\u001b[0;34m,\u001b[0m \u001b[0mhandle\u001b[0m\u001b[0;34m,\u001b[0m \u001b[0mfeed_dict\u001b[0m\u001b[0;34m,\u001b[0m \u001b[0mfetch_list\u001b[0m\u001b[0;34m)\u001b[0m\u001b[0;34m:\u001b[0m\u001b[0;34m\u001b[0m\u001b[0m\n",
      "\u001b[0;31mKeyboardInterrupt\u001b[0m: "
     ]
    }
   ],
   "source": [
    "gtestcost=np.inf\n",
    "all_saver = tf.train.Saver() \n",
    "with tf.Session() as sess:\n",
    "    init = tf.global_variables_initializer()\n",
    "    sess.run(init)\n",
    "    for epoch in range(epoches):\n",
    "        for b in range(ptraining/n_steps):\n",
    "            epoch_x=x_data[b*n_steps:(b+1)*n_steps,:,:]\n",
    "            epoch_y=y_data[b*n_steps:(b+1)*n_steps,:]\n",
    "            sess.run(train_op, feed_dict={x: epoch_x, y: epoch_y })\n",
    "            trcost=sess.run(cost, feed_dict={x: epoch_x, y: epoch_y })\n",
    "            ctraining.append(trcost)\n",
    "        tt=[]\n",
    "        for b in range(ptest/n_steps):\n",
    "            epoch_x=x_data[ptraining+b*n_steps:ptraining+(b+1)*n_steps,:,:]\n",
    "            epoch_y=y_data[ptraining+b*n_steps:ptraining+(b+1)*n_steps,:]\n",
    "            tt.append(sess.run(cost, feed_dict={x: epoch_x, y: epoch_y}))\n",
    "        tecost=np.mean(tt)    \n",
    "        ctest.append(tecost)\n",
    "        print tecost\n",
    "        if tecost < gtestcost:\n",
    "            gtestcost=tecost\n",
    "            all_saver.save(sess, 'RNN_Prediction_Trained')\n",
    "    sess.close()"
   ]
  },
  {
   "cell_type": "code",
   "execution_count": 9,
   "metadata": {
    "collapsed": false
   },
   "outputs": [
    {
     "data": {
      "image/png": "[encoded data removed]",
      "text/plain": [
       "<matplotlib.figure.Figure at 0x1225ada90>"
      ]
     },
     "metadata": {},
     "output_type": "display_data"
    }
   ],
   "source": [
    "import matplotlib.pyplot as plt\n",
    "plt.plot(ctraining)\n",
    "plt.title(\"Training Cost\")\n",
    "plt.show()"
   ]
  },
  {
   "cell_type": "code",
   "execution_count": 10,
   "metadata": {
    "collapsed": false
   },
   "outputs": [
    {
     "data": {
      "image/png": "[encoded data removed]",
      "text/plain": [
       "<matplotlib.figure.Figure at 0x1175202d0>"
      ]
     },
     "metadata": {},
     "output_type": "display_data"
    }
   ],
   "source": [
    "plt.plot(ctest)\n",
    "plt.title(\"Test Cost\")\n",
    "plt.show()"
   ]
  },
  {
   "cell_type": "code",
   "execution_count": 11,
   "metadata": {
    "collapsed": false
   },
   "outputs": [
    {
     "data": {
      "text/plain": [
       "0.33553061"
      ]
     },
     "execution_count": 11,
     "metadata": {},
     "output_type": "execute_result"
    }
   ],
   "source": [
    "np.min(ctraining)"
   ]
  },
  {
   "cell_type": "code",
   "execution_count": 12,
   "metadata": {
    "collapsed": false
   },
   "outputs": [
    {
     "data": {
      "text/plain": [
       "0.5304696"
      ]
     },
     "execution_count": 12,
     "metadata": {},
     "output_type": "execute_result"
    }
   ],
   "source": [
    "np.min(ctest)"
   ]
  },
  {
   "cell_type": "markdown",
   "metadata": {},
   "source": [
    "## Result"
   ]
  },
  {
   "cell_type": "code",
   "execution_count": 13,
   "metadata": {
    "collapsed": false
   },
   "outputs": [],
   "source": [
    "with tf.Session() as sess:\n",
    "    # Initialize variables\n",
    "    sess.run(tf.global_variables_initializer())\n",
    "    load_path = all_saver.restore(sess, '/Users/lambda/Documents/Code/Lib/Python/TensorFlow/RNN_Prediction_Trained')\n",
    "    trainingresult=[]\n",
    "    trainingobserve=[]\n",
    "    for b in range(ptraining/n_steps):\n",
    "        epoch_x=x_data[b*n_steps:(b+1)*n_steps,:,:]\n",
    "        epoch_y=y_data[b*n_steps:(b+1)*n_steps,:]\n",
    "        trainingresult.append(sess.run(prediction, feed_dict={x: epoch_x}))\n",
    "        trainingobserve.append(epoch_y)\n",
    "    testresult=[]\n",
    "    testobserve=[]\n",
    "    for b in range(ptest/n_steps):\n",
    "        epoch_x=x_data[ptraining+b*n_steps:ptraining+(b+1)*n_steps,:,:]\n",
    "        epoch_y=y_data[ptraining+b*n_steps:ptraining+(b+1)*n_steps,:]\n",
    "        testresult.append(sess.run(prediction, feed_dict={x: epoch_x}))\n",
    "        testobserve.append(epoch_y)"
   ]
  },
  {
   "cell_type": "code",
   "execution_count": 14,
   "metadata": {
    "collapsed": false
   },
   "outputs": [],
   "source": [
    "atrainingresult=np.reshape(np.asarray(trainingresult),(ptraining/n_steps*n_steps,1))\n",
    "atrainingobserve=np.reshape(np.asarray(trainingobserve),(ptraining/n_steps*n_steps,1))\n",
    "atestresult=np.reshape(np.asarray(testresult),(ptest/n_steps*n_steps,1))\n",
    "atestobserve=np.reshape(np.asarray(testobserve),(ptest/n_steps*n_steps,1))"
   ]
  },
  {
   "cell_type": "code",
   "execution_count": 15,
   "metadata": {
    "collapsed": false
   },
   "outputs": [
    {
     "data": {
      "image/png": "[encoded data removed]",
      "text/plain": [
       "<matplotlib.figure.Figure at 0x122843cd0>"
      ]
     },
     "metadata": {},
     "output_type": "display_data"
    }
   ],
   "source": [
    "import matplotlib.pyplot as plt\n",
    "plt.plot(atrainingresult,atrainingobserve,'ro')\n",
    "plt.show()"
   ]
  },
  {
   "cell_type": "code",
   "execution_count": 16,
   "metadata": {
    "collapsed": false
   },
   "outputs": [
    {
     "data": {
      "image/png": "[encoded data removed]",
      "text/plain": [
       "<matplotlib.figure.Figure at 0x117520190>"
      ]
     },
     "metadata": {},
     "output_type": "display_data"
    }
   ],
   "source": [
    "import matplotlib.pyplot as plt\n",
    "plt.plot(atestresult,atestobserve,'ro')\n",
    "plt.show()"
   ]
  },
  {
   "cell_type": "code",
   "execution_count": 17,
   "metadata": {
    "collapsed": false
   },
   "outputs": [
    {
     "data": {
      "text/plain": [
       "array([[ 1.        ,  0.76494716],\n",
       "       [ 0.76494716,  1.        ]])"
      ]
     },
     "execution_count": 17,
     "metadata": {},
     "output_type": "execute_result"
    }
   ],
   "source": [
    "a=map(lambda x:x[0],atrainingresult.tolist())\n",
    "b=map(lambda x:x[0],atrainingobserve.tolist())\n",
    "np.corrcoef(a,b)"
   ]
  },
  {
   "cell_type": "code",
   "execution_count": 18,
   "metadata": {
    "collapsed": false
   },
   "outputs": [
    {
     "data": {
      "text/plain": [
       "array([[ 1.        ,  0.65720969],\n",
       "       [ 0.65720969,  1.        ]])"
      ]
     },
     "execution_count": 18,
     "metadata": {},
     "output_type": "execute_result"
    }
   ],
   "source": [
    "a=map(lambda x:x[0],atestresult.tolist())\n",
    "b=map(lambda x:x[0],atestobserve.tolist())\n",
    "np.corrcoef(a,b)"
   ]
  },
  {
   "cell_type": "code",
   "execution_count": 19,
   "metadata": {
    "collapsed": false
   },
   "outputs": [
    {
     "data": {
      "text/plain": [
       "[0.63508536847516806,\n",
       " 0.46182801248920258,\n",
       " 0.49994047225899108,\n",
       " 0.54215532436627634,\n",
       " 0.6765287669758081,\n",
       " 0.80933741091938671,\n",
       " 0.32791364870089418,\n",
       " 0.3069785831310462,\n",
       " 0.80928569716761467,\n",
       " 0.46304028396345981,\n",
       " 0.72981445606975137,\n",
       " 0.11644121967019512]"
      ]
     },
     "execution_count": 19,
     "metadata": {},
     "output_type": "execute_result"
    }
   ],
   "source": [
    "map(lambda m:np.corrcoef(map(lambda x:x[0],atrainingresult[m:len(atestresult):12].tolist()),\n",
    "                         map(lambda x:x[0],atrainingobserve[m:len(atestresult):12].tolist()))[0][1],\n",
    "    range(12))"
   ]
  },
  {
   "cell_type": "code",
   "execution_count": 20,
   "metadata": {
    "collapsed": false
   },
   "outputs": [
    {
     "data": {
      "text/plain": [
       "[-0.077004641951075731,\n",
       " 0.42760191727471686,\n",
       " 0.25230406370098801,\n",
       " 0.23914807244547773,\n",
       " 0.11627592085406779,\n",
       " -0.075606041046796538,\n",
       " 0.11925029678735803,\n",
       " -0.16439221239972082,\n",
       " 0.25240934777432067,\n",
       " 0.45432131807939818,\n",
       " -0.21473956092370947,\n",
       " -0.032128498644559869]"
      ]
     },
     "execution_count": 20,
     "metadata": {},
     "output_type": "execute_result"
    }
   ],
   "source": [
    "map(lambda m:np.corrcoef(map(lambda x:x[0],atestresult[m:len(atestresult):12].tolist()),\n",
    "                         map(lambda x:x[0],atestobserve[m:len(atestresult):12].tolist()))[0][1],\n",
    "    range(12))"
   ]
  }
 ],
 "metadata": {
  "kernelspec": {
   "display_name": "Python 2",
   "language": "python",
   "name": "python2"
  },
  "language_info": {
   "codemirror_mode": {
    "name": "ipython",
    "version": 2
   },
   "file_extension": ".py",
   "mimetype": "text/x-python",
   "name": "python",
   "nbconvert_exporter": "python",
   "pygments_lexer": "ipython2",
   "version": "2.7.10"
  }
 },
 "nbformat": 4,
 "nbformat_minor": 2
}
