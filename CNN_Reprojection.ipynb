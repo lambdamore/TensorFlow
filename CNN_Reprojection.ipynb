{
 "cells": [
  {
   "cell_type": "markdown",
   "metadata": {},
   "source": [
    "# Import Data"
   ]
  },
  {
   "cell_type": "code",
   "execution_count": 322,
   "metadata": {
    "collapsed": false
   },
   "outputs": [],
   "source": [
    "import numpy as np\n",
    "from netCDF4 import Dataset\n",
    "directory=\"/Users/lambda/Documents/Code/CaliforniaDrought/Data/\"\n",
    "file=directory+\"Pressure/hgt.mon.mean.nc\"\n",
    "nc=Dataset(file,'r')\n",
    "pressure=nc.variables[\"hgt\"][0:815,7,0:48,48:112]\n",
    "#file=directory+\"Pressure/hgt.mon.mean.nc\"\n",
    "#nc=Dataset(file,'r')\n",
    "#pressure=nc.variables[\"slp\"][0:815,0:48,48:112]\n",
    "#pressure=nc.variables[\"slp\"][0:816,0:28,0:28]\n",
    "lat=nc.variables[\"lat\"][:]\n",
    "lon=nc.variables[\"lon\"][:]\n",
    "from numpy import loadtxt\n",
    "CAMonthTotal= loadtxt(directory+'Precipitation/CAMonthTotal.txt')\n",
    "ORMonthTotal= loadtxt(directory+'Precipitation/ORMonthTotal.txt')\n",
    "WCMonthTotal= loadtxt(directory+'Precipitation/WCMonthTotal.txt')\n",
    "CAMonthTotal=CAMonthTotal.reshape((816, 1))\n",
    "ORMonthTotal=ORMonthTotal.reshape((816, 1))\n",
    "WCMonthTotal=WCMonthTotal.reshape((816, 1))\n",
    "CAMonthTotal=CAMonthTotal[1:816,:]\n",
    "rlat=48\n",
    "rlon=64\n",
    "x_data=pressure.flatten()\n",
    "x_data=np.reshape((x_data-np.mean(x_data))/np.std(x_data),(815,rlat,rlon,1))\n",
    "y_data=(CAMonthTotal-np.mean(CAMonthTotal))/np.std(CAMonthTotal)"
   ]
  },
  {
   "cell_type": "code",
   "execution_count": 323,
   "metadata": {
    "collapsed": false
   },
   "outputs": [
    {
     "name": "stdout",
     "output_type": "stream",
     "text": [
      "/Users/lambda/Documents/Code/Lib/TensorFlow\n"
     ]
    }
   ],
   "source": [
    "cd '/Users/lambda/Documents/Code/Lib/TensorFlow'"
   ]
  },
  {
   "cell_type": "markdown",
   "metadata": {},
   "source": [
    "# Set Computing Graph"
   ]
  },
  {
   "cell_type": "markdown",
   "metadata": {},
   "source": [
    "### HyperParameters"
   ]
  },
  {
   "cell_type": "code",
   "execution_count": 324,
   "metadata": {
    "collapsed": true
   },
   "outputs": [],
   "source": [
    "ptraining=576\n",
    "ctraining=[]\n",
    "ctest=[]\n",
    "#Convolution Layer Parameters\n",
    "wc1=3\n",
    "nc1=2\n",
    "wc2=5\n",
    "nc2=1\n",
    "wp1=2\n",
    "wp2=2\n",
    "fl=(rlat-wc1-wc2-wp1-wp2+4)*(rlon-wc1-wc2-wp1-wp2+4)*nc2\n",
    "wfc=50\n",
    "wfc2=10"
   ]
  },
  {
   "cell_type": "markdown",
   "metadata": {},
   "source": [
    "### Graph"
   ]
  },
  {
   "cell_type": "code",
   "execution_count": 325,
   "metadata": {
    "collapsed": false
   },
   "outputs": [],
   "source": [
    "import tensorflow as tf\n",
    "tf.reset_default_graph()\n",
    "x = tf.placeholder('float', [None, rlat,rlon,1])\n",
    "y = tf.placeholder('float',[None,1])\n",
    "def convolutional_neural_network(x):\n",
    "    def conv2d(x, W):\n",
    "        return tf.nn.conv2d(x, W, strides=[1,1,1,1], padding='VALID')\n",
    "    def maxpool2d(x,W):\n",
    "        return tf.nn.max_pool(x, [1,W,W,1], strides=[1,1,1,1], padding='VALID')\n",
    "    weights = {'W_conv1':tf.Variable(tf.random_normal([wc1,wc1,1,nc1],stddev=0.001,name=\"W_conv1\")),\n",
    "               'W_conv2':tf.Variable(tf.random_normal([wc2,wc2,nc1,nc2],stddev=0.001)),\n",
    "               'W_fc':tf.Variable(tf.random_normal([fl,wfc],stddev=0.001)),\n",
    "               'W_fc2':tf.Variable(tf.random_normal([wfc,wfc2],stddev=0.001)),\n",
    "               'out':tf.Variable(tf.random_normal([wfc2, 1],stddev=0.001))}\n",
    "\n",
    "    biases = { 'b_conv1':tf.Variable(tf.random_normal([nc1],stddev=0.001)),\n",
    "               'b_conv2':tf.Variable(tf.random_normal([nc2],stddev=0.001)),\n",
    "               'b_fc':tf.Variable(tf.random_normal([wfc],stddev=0.001)),\n",
    "               'b_fc2':tf.Variable(tf.random_normal([wfc2],stddev=0.001)),\n",
    "               'out':tf.Variable(tf.random_normal([1],stddev=0.001))}\n",
    "    \n",
    "    \n",
    "    conv1 = conv2d(x, weights['W_conv1']) + biases['b_conv1']\n",
    "    pool1 = maxpool2d(conv1,wp1)\n",
    "\n",
    "    conv2 = conv2d(pool1, weights['W_conv2']) + biases['b_conv2']\n",
    "    pool2 = maxpool2d(conv2,wp1)\n",
    "\n",
    "    fc = tf.reshape(pool2,[-1, fl])\n",
    "    fc = tf.nn.relu(tf.matmul(fc, weights['W_fc'])+biases['b_fc'])\n",
    "    fc2 = tf.nn.relu(tf.matmul(fc, weights['W_fc2'])+biases['b_fc2'])\n",
    "    output = tf.matmul(fc2, weights['out'])+biases['out'] \n",
    "    return output"
   ]
  },
  {
   "cell_type": "code",
   "execution_count": 326,
   "metadata": {
    "collapsed": false
   },
   "outputs": [],
   "source": [
    "prediction = convolutional_neural_network(x)\n",
    "cost = tf.reduce_mean(tf.square(prediction-y))\n",
    "optimizer = tf.train.AdamOptimizer(0.001).minimize(cost)\n",
    "all_saver = tf.train.Saver()"
   ]
  },
  {
   "cell_type": "markdown",
   "metadata": {},
   "source": [
    "# Train"
   ]
  },
  {
   "cell_type": "code",
   "execution_count": 327,
   "metadata": {
    "collapsed": false
   },
   "outputs": [],
   "source": [
    "def train_neural_network(x):\n",
    "    batch=120\n",
    "    epoches=200\n",
    "    gtestcost=np.inf\n",
    "    with tf.Session() as sess:\n",
    "        sess.run(tf.global_variables_initializer())\n",
    "        for epoch in range(epoches):\n",
    "            for b in range(ptraining/batch):\n",
    "                epoch_x=x_data[b*batch:(b+1)*batch,:,:,:]\n",
    "                epoch_y=y_data[b*batch:(b+1)*batch,:]\n",
    "                sess.run(optimizer, feed_dict={x: epoch_x, y: epoch_y})\n",
    "                trainingcost=sess.run(cost, feed_dict={x: epoch_x, y: epoch_y})\n",
    "                ctraining.append(trainingcost)\n",
    "            testcost=sess.run(cost, feed_dict={x: x_data[ptraining:,:,:,:], \n",
    "                                                   y: y_data[ptraining:,:]})\n",
    "            print testcost\n",
    "            if testcost < gtestcost:\n",
    "                gtestcost=testcost\n",
    "                all_saver.save(sess, 'CNN_Trained')\n",
    "            ctest.append(testcost)\n",
    "        result=sess.run(prediction,feed_dict={x: x_data})\n",
    "        sess.close()\n",
    "    return result "
   ]
  },
  {
   "cell_type": "code",
   "execution_count": 328,
   "metadata": {
    "collapsed": false
   },
   "outputs": [
    {
     "name": "stdout",
     "output_type": "stream",
     "text": [
      "0.859349\n",
      "0.859627\n",
      "0.859917\n",
      "0.860189\n",
      "0.859996\n",
      "0.856866\n",
      "0.842934\n",
      "0.810733\n",
      "0.807508\n",
      "0.770677\n",
      "0.767025\n",
      "0.765425\n",
      "0.752606\n",
      "0.739046\n",
      "0.717484\n",
      "0.689695\n",
      "0.665638\n",
      "0.652088\n",
      "0.64329\n",
      "0.626836\n",
      "0.613743\n",
      "0.601978\n",
      "0.595365\n",
      "0.598287\n",
      "0.595596\n",
      "0.589485\n",
      "0.585294\n",
      "0.580559\n",
      "0.57777\n",
      "0.571058\n",
      "0.565545\n",
      "0.563007\n",
      "0.561772\n",
      "0.560449\n",
      "0.559482\n",
      "0.560151\n",
      "0.561153\n",
      "0.561882\n",
      "0.560457\n",
      "0.563707\n",
      "0.564148\n",
      "0.563515\n",
      "0.560989\n",
      "0.559816\n",
      "0.559469\n",
      "0.558959\n",
      "0.558241\n",
      "0.557672\n",
      "0.555043\n",
      "0.554861\n",
      "0.555457\n",
      "0.554685\n",
      "0.555491\n",
      "0.553569\n",
      "0.554482\n",
      "0.553676\n",
      "0.552526\n",
      "0.552503\n",
      "0.552763\n",
      "0.551645\n",
      "0.551851\n",
      "0.551271\n",
      "0.55087\n",
      "0.550224\n",
      "0.550183\n",
      "0.549675\n",
      "0.549423\n",
      "0.548899\n",
      "0.548352\n",
      "0.54816\n",
      "0.547657\n",
      "0.547261\n",
      "0.546742\n",
      "0.546478\n",
      "0.546249\n",
      "0.5453\n",
      "0.545084\n",
      "0.544581\n",
      "0.544369\n",
      "0.543842\n",
      "0.542778\n",
      "0.542739\n",
      "0.542573\n",
      "0.541849\n",
      "0.5417\n",
      "0.540895\n",
      "0.540259\n",
      "0.540014\n",
      "0.538714\n",
      "0.538364\n",
      "0.537669\n",
      "0.537037\n",
      "0.537237\n",
      "0.536901\n",
      "0.536367\n",
      "0.534355\n",
      "0.53294\n",
      "0.532897\n",
      "0.531889\n",
      "0.530701\n",
      "0.530131\n",
      "0.530751\n",
      "0.530513\n",
      "0.530351\n",
      "0.529585\n",
      "0.531915\n",
      "0.529613\n",
      "0.528774\n",
      "0.530778\n",
      "0.529973\n",
      "0.529233\n",
      "0.529176\n",
      "0.527765\n",
      "0.529151\n",
      "0.528797\n",
      "0.527403\n",
      "0.526211\n",
      "0.526834\n",
      "0.528436\n",
      "0.526828\n",
      "0.525006\n",
      "0.527179\n",
      "0.527537\n",
      "0.524887\n",
      "0.523381\n",
      "0.525465\n",
      "0.526117\n",
      "0.523385\n",
      "0.521718\n",
      "0.524308\n",
      "0.524609\n",
      "0.522245\n",
      "0.52198\n",
      "0.524418\n",
      "0.521614\n",
      "0.519085\n",
      "0.52145\n",
      "0.522817\n",
      "0.519625\n",
      "0.518969\n",
      "0.521182\n",
      "0.520134\n",
      "0.518145\n",
      "0.518949\n",
      "0.519687\n",
      "0.518545\n",
      "0.518395\n",
      "0.518159\n",
      "0.518054\n",
      "0.51832\n",
      "0.517264\n",
      "0.516938\n",
      "0.517052\n",
      "0.516541\n",
      "0.51593\n",
      "0.515728\n",
      "0.516077\n",
      "0.515768\n",
      "0.514221\n",
      "0.514374\n",
      "0.515251\n",
      "0.514261\n",
      "0.514113\n",
      "0.515216\n",
      "0.514233\n",
      "0.512643\n",
      "0.512481\n",
      "0.513191\n",
      "0.513019\n",
      "0.511855\n",
      "0.5114\n",
      "0.511977\n",
      "0.512655\n",
      "0.51067\n",
      "0.509901\n",
      "0.510866\n",
      "0.510811\n",
      "0.510881\n",
      "0.510947\n",
      "0.509654\n",
      "0.510043\n",
      "0.510286\n",
      "0.509845\n",
      "0.509096\n",
      "0.509169\n",
      "0.508931\n",
      "0.508493\n",
      "0.508422\n",
      "0.507945\n",
      "0.50783\n",
      "0.508007\n",
      "0.507394\n",
      "0.506519\n",
      "0.507655\n",
      "0.508314\n",
      "0.507366\n",
      "0.505603\n",
      "0.505732\n",
      "0.506728\n",
      "0.507214\n"
     ]
    }
   ],
   "source": [
    "prediction_batch=train_neural_network(x)"
   ]
  },
  {
   "cell_type": "code",
   "execution_count": 329,
   "metadata": {
    "collapsed": false
   },
   "outputs": [
    {
     "data": {
      "text/plain": [
       "[0.50560278, 0.40655455]"
      ]
     },
     "execution_count": 329,
     "metadata": {},
     "output_type": "execute_result"
    }
   ],
   "source": [
    "[np.min(ctest),np.min(ctraining)]"
   ]
  },
  {
   "cell_type": "code",
   "execution_count": 336,
   "metadata": {
    "collapsed": false,
    "scrolled": true
   },
   "outputs": [
    {
     "data": {
      "image/png": "[encoded data removed]",
      "text/plain": [
       "<matplotlib.figure.Figure at 0x11adae910>"
      ]
     },
     "metadata": {},
     "output_type": "display_data"
    }
   ],
   "source": [
    "plt.plot(ctraining[0:800:4], label=\"training\")\n",
    "plt.plot(ctest,label=\"test\")\n",
    "plt.title(\"Training Cost\")\n",
    "plt.legend(bbox_to_anchor=(1.05, 1), loc=2, borderaxespad=0.)\n",
    "plt.show()"
   ]
  },
  {
   "cell_type": "markdown",
   "metadata": {},
   "source": [
    "# Result"
   ]
  },
  {
   "cell_type": "code",
   "execution_count": 331,
   "metadata": {
    "collapsed": false
   },
   "outputs": [],
   "source": [
    "with tf.Session() as sess:\n",
    "    # Initialize variables\n",
    "    sess.run(tf.global_variables_initializer())\n",
    "    # Restore model weights from previously saved model\n",
    "    load_path =all_saver.restore(sess, '/Users/lambda/Documents/Code/Lib/TensorFlow/CNN_Trained')\n",
    "    trainingresult=sess.run(prediction,feed_dict={x:x_data[0:ptraining,:,:,:]})\n",
    "    testresult=sess.run(prediction,feed_dict={x:x_data[ptraining:,:,:,:]})"
   ]
  },
  {
   "cell_type": "code",
   "execution_count": 332,
   "metadata": {
    "collapsed": false
   },
   "outputs": [
    {
     "data": {
      "image/png": "[encoded data removed]",
      "text/plain": [
       "<matplotlib.figure.Figure at 0x111818090>"
      ]
     },
     "metadata": {},
     "output_type": "display_data"
    }
   ],
   "source": [
    "import matplotlib.pyplot as plt\n",
    "plt.plot(trainingresult,y_data[0:ptraining,:],'ro')\n",
    "plt.title(\"Training Result\")\n",
    "plt.show()"
   ]
  },
  {
   "cell_type": "code",
   "execution_count": 333,
   "metadata": {
    "collapsed": false
   },
   "outputs": [
    {
     "data": {
      "image/png": "[encoded data removed]",
      "text/plain": [
       "<matplotlib.figure.Figure at 0x11ae69e10>"
      ]
     },
     "metadata": {},
     "output_type": "display_data"
    }
   ],
   "source": [
    "import matplotlib.pyplot as plt\n",
    "plt.plot(testresult,y_data[ptraining:,:],'ro')\n",
    "plt.title(\"Test Result\")\n",
    "plt.show()"
   ]
  },
  {
   "cell_type": "code",
   "execution_count": 334,
   "metadata": {
    "collapsed": false
   },
   "outputs": [
    {
     "data": {
      "text/plain": [
       "[0.3748506813485642,\n",
       " 0.34926209082558202,\n",
       " 0.30653632305910328,\n",
       " 0.18035061774423417,\n",
       " 0.044700731849705258,\n",
       " -0.18778217541657874,\n",
       " -0.089950251255865379,\n",
       " 0.0064251316244734059,\n",
       " 0.35012240238441805,\n",
       " 0.37190573485625622,\n",
       " 0.22904773519245003,\n",
       " 0.44735562998083128]"
      ]
     },
     "execution_count": 334,
     "metadata": {},
     "output_type": "execute_result"
    }
   ],
   "source": [
    "map(lambda m:np.corrcoef(map(lambda x:x[0],trainingresult[m:ptraining:12].tolist()),\n",
    "                         map(lambda x:x[0],y_data[0:ptraining,:][m:ptraining:12].tolist()))[0][1],\n",
    "    range(12))"
   ]
  },
  {
   "cell_type": "code",
   "execution_count": 335,
   "metadata": {
    "collapsed": false
   },
   "outputs": [
    {
     "data": {
      "text/plain": [
       "[0.27817371719031025,\n",
       " 0.12200503198549033,\n",
       " -0.11028305663859336,\n",
       " -0.24996687804220222,\n",
       " -0.090527170354401693,\n",
       " 0.51918832061146858,\n",
       " 0.17808899083637067,\n",
       " 0.055643051004919543,\n",
       " -0.068028370826578075,\n",
       " -0.12924122435275506,\n",
       " -0.11735159985197358,\n",
       " 0.083309313420535366]"
      ]
     },
     "execution_count": 335,
     "metadata": {},
     "output_type": "execute_result"
    }
   ],
   "source": [
    "map(lambda m:np.corrcoef(map(lambda x:x[0],trainingresult[m:ptraining:12].tolist()),\n",
    "                         map(lambda x:x[0],y_data[0:ptraining,:][m:ptraining:12].tolist()))[0][1],\n",
    "    "
   ]
  }
 ],
 "metadata": {
  "kernelspec": {
   "display_name": "Python 2",
   "language": "python",
   "name": "python2"
  },
  "language_info": {
   "codemirror_mode": {
    "name": "ipython",
    "version": 2
   },
   "file_extension": ".py",
   "mimetype": "text/x-python",
   "name": "python",
   "nbconvert_exporter": "python",
   "pygments_lexer": "ipython2",
   "version": "2.7.10"
  }
 },
 "nbformat": 4,
 "nbformat_minor": 2
}
